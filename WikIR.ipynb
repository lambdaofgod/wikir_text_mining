{
 "cells": [
  {
   "cell_type": "code",
   "execution_count": 1,
   "metadata": {},
   "outputs": [],
   "source": [
    "import pandas as pd\n",
    "import numpy as np\n",
    "import matplotlib.pyplot as plt\n",
    "%matplotlib inline\n",
    "\n",
    "import rank_bm25\n",
    "import nltk\n",
    "from nltk import stem\n",
    "import tqdm \n",
    "from toolz import partial\n",
    "\n",
    "import rank_bm25\n",
    "import pytrec_eval\n",
    "\n",
    "plt.style.use('dark_background')"
   ]
  },
  {
   "cell_type": "code",
   "execution_count": 3,
   "metadata": {},
   "outputs": [],
   "source": [
    "import httpimport\n",
    "with httpimport.github_repo('lambdaofgod', 'mlutil', \n",
    "                    module='mlutil', branch='master'):\n",
    "    from mlutil.parallel import mapp"
   ]
  },
  {
   "cell_type": "code",
   "execution_count": 4,
   "metadata": {},
   "outputs": [],
   "source": [
    "subset = 'training'"
   ]
  },
  {
   "cell_type": "code",
   "execution_count": 5,
   "metadata": {},
   "outputs": [
    {
     "name": "stdout",
     "output_type": "stream",
     "text": [
      "documents.csv  test  training  validation\n"
     ]
    }
   ],
   "source": [
    "!ls wikIR1k/"
   ]
  },
  {
   "cell_type": "code",
   "execution_count": 6,
   "metadata": {},
   "outputs": [
    {
     "name": "stdout",
     "output_type": "stream",
     "text": [
      "BM25.metrics.json  BM25.qrels.csv  BM25.res  qrels  queries.csv\n"
     ]
    }
   ],
   "source": [
    "!ls wikIR1k/test/"
   ]
  },
  {
   "cell_type": "markdown",
   "metadata": {},
   "source": [
    "## Documents"
   ]
  },
  {
   "cell_type": "code",
   "execution_count": 7,
   "metadata": {},
   "outputs": [],
   "source": [
    "documents_df = pd.read_csv('wikIR1k/documents.csv', index_col='id_right')"
   ]
  },
  {
   "cell_type": "code",
   "execution_count": 8,
   "metadata": {},
   "outputs": [
    {
     "name": "stdout",
     "output_type": "stream",
     "text": [
      "<class 'pandas.core.frame.DataFrame'>\n",
      "Int64Index: 99987 entries, 0 to 99999\n",
      "Data columns (total 1 columns):\n",
      "text_right    99987 non-null object\n",
      "dtypes: object(1)\n",
      "memory usage: 1.5+ MB\n"
     ]
    }
   ],
   "source": [
    "documents_df.info()"
   ]
  },
  {
   "cell_type": "code",
   "execution_count": 9,
   "metadata": {},
   "outputs": [
    {
     "data": {
      "text/html": [
       "<div>\n",
       "<style scoped>\n",
       "    .dataframe tbody tr th:only-of-type {\n",
       "        vertical-align: middle;\n",
       "    }\n",
       "\n",
       "    .dataframe tbody tr th {\n",
       "        vertical-align: top;\n",
       "    }\n",
       "\n",
       "    .dataframe thead th {\n",
       "        text-align: right;\n",
       "    }\n",
       "</style>\n",
       "<table border=\"1\" class=\"dataframe\">\n",
       "  <thead>\n",
       "    <tr style=\"text-align: right;\">\n",
       "      <th></th>\n",
       "      <th>text_right</th>\n",
       "    </tr>\n",
       "    <tr>\n",
       "      <th>id_right</th>\n",
       "      <th></th>\n",
       "    </tr>\n",
       "  </thead>\n",
       "  <tbody>\n",
       "    <tr>\n",
       "      <th>0</th>\n",
       "      <td>these institutions are often described as stat...</td>\n",
       "    </tr>\n",
       "    <tr>\n",
       "      <th>1</th>\n",
       "      <td>parents usually notice signs during the first ...</td>\n",
       "    </tr>\n",
       "    <tr>\n",
       "      <th>2</th>\n",
       "      <td>a planet like earth it is dimensionless and me...</td>\n",
       "    </tr>\n",
       "    <tr>\n",
       "      <th>3</th>\n",
       "      <td>it is similar to the ancient greek letter alph...</td>\n",
       "    </tr>\n",
       "    <tr>\n",
       "      <th>4</th>\n",
       "      <td>it is bordered by tennessee to the north georg...</td>\n",
       "    </tr>\n",
       "  </tbody>\n",
       "</table>\n",
       "</div>"
      ],
      "text/plain": [
       "                                                 text_right\n",
       "id_right                                                   \n",
       "0         these institutions are often described as stat...\n",
       "1         parents usually notice signs during the first ...\n",
       "2         a planet like earth it is dimensionless and me...\n",
       "3         it is similar to the ancient greek letter alph...\n",
       "4         it is bordered by tennessee to the north georg..."
      ]
     },
     "execution_count": 9,
     "metadata": {},
     "output_type": "execute_result"
    }
   ],
   "source": [
    "documents_df.head()"
   ]
  },
  {
   "cell_type": "code",
   "execution_count": 10,
   "metadata": {},
   "outputs": [],
   "source": [
    "document_lengths = documents_df['text_right'].apply(lambda s: s.count(' '))"
   ]
  },
  {
   "cell_type": "code",
   "execution_count": 11,
   "metadata": {},
   "outputs": [
    {
     "data": {
      "image/png": "[encoded data removed]",
      "text/plain": [
       "<Figure size 432x288 with 1 Axes>"
      ]
     },
     "metadata": {},
     "output_type": "display_data"
    }
   ],
   "source": [
    "document_lengths.plot.hist();"
   ]
  },
  {
   "cell_type": "markdown",
   "metadata": {},
   "source": [
    "## Queries"
   ]
  },
  {
   "cell_type": "code",
   "execution_count": 12,
   "metadata": {},
   "outputs": [],
   "source": [
    "queries_df = pd.read_csv('wikIR1k/{}/queries.csv'.format(subset), index_col='id_left')"
   ]
  },
  {
   "cell_type": "code",
   "execution_count": 13,
   "metadata": {},
   "outputs": [
    {
     "name": "stdout",
     "output_type": "stream",
     "text": [
      "<class 'pandas.core.frame.DataFrame'>\n",
      "Int64Index: 1645 entries, 17783 to 12052\n",
      "Data columns (total 1 columns):\n",
      "text_left    1645 non-null object\n",
      "dtypes: object(1)\n",
      "memory usage: 25.7+ KB\n"
     ]
    }
   ],
   "source": [
    "queries_df.info()"
   ]
  },
  {
   "cell_type": "code",
   "execution_count": 14,
   "metadata": {},
   "outputs": [
    {
     "data": {
      "image/png": "[encoded data removed]",
      "text/plain": [
       "<Figure size 432x288 with 1 Axes>"
      ]
     },
     "metadata": {},
     "output_type": "display_data"
    }
   ],
   "source": [
    "queries_df['text_left'].apply(lambda s: len(s.split())).plot.hist();"
   ]
  },
  {
   "cell_type": "markdown",
   "metadata": {},
   "source": [
    "# BM25 results"
   ]
  },
  {
   "cell_type": "code",
   "execution_count": 15,
   "metadata": {},
   "outputs": [
    {
     "name": "stdout",
     "output_type": "stream",
     "text": [
      ",id_left,id_right,label\n",
      "0,17783,77063,0\n",
      "1,17783,17774,0\n",
      "2,17783,17783,2\n",
      "3,17783,20576,0\n",
      "4,17783,77066,0\n",
      "5,17783,35888,1\n",
      "6,17783,77064,0\n",
      "7,17783,97038,1\n",
      "8,17783,29547,0\n"
     ]
    }
   ],
   "source": [
    "!head wikIR1k/training/BM25.qrels.csv"
   ]
  },
  {
   "cell_type": "code",
   "execution_count": 16,
   "metadata": {},
   "outputs": [
    {
     "data": {
      "text/plain": [
       "(8588, 4)"
      ]
     },
     "execution_count": 16,
     "metadata": {},
     "output_type": "execute_result"
    }
   ],
   "source": [
    "relevances = pd.read_csv('wikIR1k/{}/BM25.qrels.csv'.format(subset))\n",
    "relevant_pairs=relevances[relevances['label'] != 0]\n",
    "relevant_pairs.shape"
   ]
  },
  {
   "cell_type": "code",
   "execution_count": 17,
   "metadata": {},
   "outputs": [
    {
     "data": {
      "text/html": [
       "<div>\n",
       "<style scoped>\n",
       "    .dataframe tbody tr th:only-of-type {\n",
       "        vertical-align: middle;\n",
       "    }\n",
       "\n",
       "    .dataframe tbody tr th {\n",
       "        vertical-align: top;\n",
       "    }\n",
       "\n",
       "    .dataframe thead th {\n",
       "        text-align: right;\n",
       "    }\n",
       "</style>\n",
       "<table border=\"1\" class=\"dataframe\">\n",
       "  <thead>\n",
       "    <tr style=\"text-align: right;\">\n",
       "      <th></th>\n",
       "      <th>Unnamed: 0</th>\n",
       "      <th>id_left</th>\n",
       "      <th>id_right</th>\n",
       "      <th>label</th>\n",
       "      <th>text_left</th>\n",
       "      <th>text_right</th>\n",
       "    </tr>\n",
       "  </thead>\n",
       "  <tbody>\n",
       "    <tr>\n",
       "      <th>0</th>\n",
       "      <td>2</td>\n",
       "      <td>17783</td>\n",
       "      <td>17783</td>\n",
       "      <td>2</td>\n",
       "      <td>apulia</td>\n",
       "      <td>the region comprises and its population is abo...</td>\n",
       "    </tr>\n",
       "    <tr>\n",
       "      <th>1</th>\n",
       "      <td>5</td>\n",
       "      <td>17783</td>\n",
       "      <td>35888</td>\n",
       "      <td>1</td>\n",
       "      <td>apulia</td>\n",
       "      <td>it also has two coastlines a 30 km stretch on ...</td>\n",
       "    </tr>\n",
       "    <tr>\n",
       "      <th>2</th>\n",
       "      <td>21902</td>\n",
       "      <td>17774</td>\n",
       "      <td>35888</td>\n",
       "      <td>1</td>\n",
       "      <td>calabria</td>\n",
       "      <td>it also has two coastlines a 30 km stretch on ...</td>\n",
       "    </tr>\n",
       "    <tr>\n",
       "      <th>3</th>\n",
       "      <td>37971</td>\n",
       "      <td>95944</td>\n",
       "      <td>35888</td>\n",
       "      <td>1</td>\n",
       "      <td>regions of italy</td>\n",
       "      <td>it also has two coastlines a 30 km stretch on ...</td>\n",
       "    </tr>\n",
       "    <tr>\n",
       "      <th>4</th>\n",
       "      <td>74818</td>\n",
       "      <td>17843</td>\n",
       "      <td>35888</td>\n",
       "      <td>1</td>\n",
       "      <td>campania</td>\n",
       "      <td>it also has two coastlines a 30 km stretch on ...</td>\n",
       "    </tr>\n",
       "    <tr>\n",
       "      <th>...</th>\n",
       "      <td>...</td>\n",
       "      <td>...</td>\n",
       "      <td>...</td>\n",
       "      <td>...</td>\n",
       "      <td>...</td>\n",
       "      <td>...</td>\n",
       "    </tr>\n",
       "    <tr>\n",
       "      <th>8583</th>\n",
       "      <td>164400</td>\n",
       "      <td>12052</td>\n",
       "      <td>29167</td>\n",
       "      <td>1</td>\n",
       "      <td>sonic youth</td>\n",
       "      <td>after graduating from los angeles s otis colle...</td>\n",
       "    </tr>\n",
       "    <tr>\n",
       "      <th>8584</th>\n",
       "      <td>164401</td>\n",
       "      <td>12052</td>\n",
       "      <td>88503</td>\n",
       "      <td>1</td>\n",
       "      <td>sonic youth</td>\n",
       "      <td>the band recorded the album between july and a...</td>\n",
       "    </tr>\n",
       "    <tr>\n",
       "      <th>8585</th>\n",
       "      <td>164403</td>\n",
       "      <td>12052</td>\n",
       "      <td>12052</td>\n",
       "      <td>2</td>\n",
       "      <td>sonic youth</td>\n",
       "      <td>founding members thurston moore guitar vocals ...</td>\n",
       "    </tr>\n",
       "    <tr>\n",
       "      <th>8586</th>\n",
       "      <td>164404</td>\n",
       "      <td>12052</td>\n",
       "      <td>29166</td>\n",
       "      <td>1</td>\n",
       "      <td>sonic youth</td>\n",
       "      <td>he has also participated in many solo and grou...</td>\n",
       "    </tr>\n",
       "    <tr>\n",
       "      <th>8587</th>\n",
       "      <td>164405</td>\n",
       "      <td>12052</td>\n",
       "      <td>29168</td>\n",
       "      <td>1</td>\n",
       "      <td>sonic youth</td>\n",
       "      <td>in 2004 rolling stone ranked ranaldo at number...</td>\n",
       "    </tr>\n",
       "  </tbody>\n",
       "</table>\n",
       "<p>8588 rows × 6 columns</p>\n",
       "</div>"
      ],
      "text/plain": [
       "      Unnamed: 0  id_left  id_right  label         text_left  \\\n",
       "0              2    17783     17783      2            apulia   \n",
       "1              5    17783     35888      1            apulia   \n",
       "2          21902    17774     35888      1          calabria   \n",
       "3          37971    95944     35888      1  regions of italy   \n",
       "4          74818    17843     35888      1          campania   \n",
       "...          ...      ...       ...    ...               ...   \n",
       "8583      164400    12052     29167      1       sonic youth   \n",
       "8584      164401    12052     88503      1       sonic youth   \n",
       "8585      164403    12052     12052      2       sonic youth   \n",
       "8586      164404    12052     29166      1       sonic youth   \n",
       "8587      164405    12052     29168      1       sonic youth   \n",
       "\n",
       "                                             text_right  \n",
       "0     the region comprises and its population is abo...  \n",
       "1     it also has two coastlines a 30 km stretch on ...  \n",
       "2     it also has two coastlines a 30 km stretch on ...  \n",
       "3     it also has two coastlines a 30 km stretch on ...  \n",
       "4     it also has two coastlines a 30 km stretch on ...  \n",
       "...                                                 ...  \n",
       "8583  after graduating from los angeles s otis colle...  \n",
       "8584  the band recorded the album between july and a...  \n",
       "8585  founding members thurston moore guitar vocals ...  \n",
       "8586  he has also participated in many solo and grou...  \n",
       "8587  in 2004 rolling stone ranked ranaldo at number...  \n",
       "\n",
       "[8588 rows x 6 columns]"
      ]
     },
     "execution_count": 17,
     "metadata": {},
     "output_type": "execute_result"
    }
   ],
   "source": [
    "relevant_pairs.merge(queries_df, on='id_left').merge(documents_df, on='id_right')"
   ]
  },
  {
   "cell_type": "code",
   "execution_count": 18,
   "metadata": {},
   "outputs": [],
   "source": [
    "stop_words = set(nltk.corpus.stopwords.words('english'))\n",
    "\n",
    "\n",
    "def get_document_stems(doc_with_key, stemmer):\n",
    "    key, value = doc_with_key\n",
    "    value = value['text_right']\n",
    "    stems = [stemmer.stem(elem) for elem in value.split(\" \") if elem not in stop_words]\n",
    "    return key, value.split() \n",
    "\n",
    "\n",
    "def make_bm25(documents, stemmer=stem.PorterStemmer(), bm25_class=rank_bm25.BM25Okapi):\n",
    "    docs_dict = dict(mapp(partial(get_document_stems, stemmer=stemmer), documents.iterrows()))\n",
    "    return bm25_class(docs_dict.values())"
   ]
  },
  {
   "cell_type": "code",
   "execution_count": 19,
   "metadata": {},
   "outputs": [],
   "source": [
    "def make_relevance_dict(queries_df, relevant_indices):\n",
    "    return {\n",
    "        str(l): {\n",
    "            str(k): v\n",
    "            for (k, v) in relevant_indices[i].to_dict().items()\n",
    "        }\n",
    "        for i, l in enumerate(queries_df.index)\n",
    "    }\n",
    "\n",
    "\n",
    "def get_predicted_relevant_indices(queries_df, bm25, k=100):\n",
    "    bm25_relevant_indices = []\n",
    "    for __, q in tqdm.tqdm(queries_df.iterrows(), total=len(queries_df)):\n",
    "        query = [nltk.stem.PorterStemmer().stem(t) for t in q['text_left'].split()]\n",
    "        scores = bm25.get_scores(query)\n",
    "        sorted_indices = np.argsort(scores)[::-1][:k]\n",
    "        sorted_scores = scores[sorted_indices]\n",
    "        document_indices = documents_df.index[sorted_indices]\n",
    "        bm25_relevant_indices.append(pd.Series(sorted_scores, index=document_indices))\n",
    "    \n",
    "    return bm25_relevant_indices\n",
    "\n",
    "\n",
    "def setup_evaluator_from_relevance_file(qrel_path, measures={\"map\",\"ndcg_cut\",\"recall\",\"P\"}):\n",
    "    with open(qrel_path, 'r') as f_qrel:\n",
    "        qrel = pytrec_eval.parse_qrel(f_qrel)\n",
    "\n",
    "    return pytrec_eval.RelevanceEvaluator(qrel,measures)\n",
    "\n",
    "\n",
    "def get_results_df(predicted_relevance, evaluator):\n",
    "    results = evaluator.evaluate(predicted_relevance)\n",
    "    return pd.DataFrame.from_records(results).T"
   ]
  },
  {
   "cell_type": "code",
   "execution_count": 20,
   "metadata": {},
   "outputs": [
    {
     "name": "stdout",
     "output_type": "stream",
     "text": [
      "CPU times: user 55 s, sys: 4.49 s, total: 59.5 s\n",
      "Wall time: 1min 5s\n"
     ]
    }
   ],
   "source": [
    "%%time\n",
    "bm25 = make_bm25(documents_df)"
   ]
  },
  {
   "cell_type": "code",
   "execution_count": 21,
   "metadata": {},
   "outputs": [
    {
     "data": {
      "text/html": [
       "<div>\n",
       "<style scoped>\n",
       "    .dataframe tbody tr th:only-of-type {\n",
       "        vertical-align: middle;\n",
       "    }\n",
       "\n",
       "    .dataframe tbody tr th {\n",
       "        vertical-align: top;\n",
       "    }\n",
       "\n",
       "    .dataframe thead th {\n",
       "        text-align: right;\n",
       "    }\n",
       "</style>\n",
       "<table border=\"1\" class=\"dataframe\">\n",
       "  <thead>\n",
       "    <tr style=\"text-align: right;\">\n",
       "      <th></th>\n",
       "      <th>text_right</th>\n",
       "    </tr>\n",
       "    <tr>\n",
       "      <th>id_right</th>\n",
       "      <th></th>\n",
       "    </tr>\n",
       "  </thead>\n",
       "  <tbody>\n",
       "    <tr>\n",
       "      <th>0</th>\n",
       "      <td>these institutions are often described as stat...</td>\n",
       "    </tr>\n",
       "    <tr>\n",
       "      <th>1</th>\n",
       "      <td>parents usually notice signs during the first ...</td>\n",
       "    </tr>\n",
       "    <tr>\n",
       "      <th>2</th>\n",
       "      <td>a planet like earth it is dimensionless and me...</td>\n",
       "    </tr>\n",
       "    <tr>\n",
       "      <th>3</th>\n",
       "      <td>it is similar to the ancient greek letter alph...</td>\n",
       "    </tr>\n",
       "    <tr>\n",
       "      <th>4</th>\n",
       "      <td>it is bordered by tennessee to the north georg...</td>\n",
       "    </tr>\n",
       "    <tr>\n",
       "      <th>...</th>\n",
       "      <td>...</td>\n",
       "    </tr>\n",
       "    <tr>\n",
       "      <th>99995</th>\n",
       "      <td>he was the first born son of constantine i and...</td>\n",
       "    </tr>\n",
       "    <tr>\n",
       "      <th>99996</th>\n",
       "      <td>they were the 2003 2006 and 2008 wnba champion...</td>\n",
       "    </tr>\n",
       "    <tr>\n",
       "      <th>99997</th>\n",
       "      <td>36 and dewitt clinton high school in the bronx...</td>\n",
       "    </tr>\n",
       "    <tr>\n",
       "      <th>99998</th>\n",
       "      <td>he was a republican politician who served as t...</td>\n",
       "    </tr>\n",
       "    <tr>\n",
       "      <th>99999</th>\n",
       "      <td>exterior arcades are designed to provide a she...</td>\n",
       "    </tr>\n",
       "  </tbody>\n",
       "</table>\n",
       "<p>99987 rows × 1 columns</p>\n",
       "</div>"
      ],
      "text/plain": [
       "                                                 text_right\n",
       "id_right                                                   \n",
       "0         these institutions are often described as stat...\n",
       "1         parents usually notice signs during the first ...\n",
       "2         a planet like earth it is dimensionless and me...\n",
       "3         it is similar to the ancient greek letter alph...\n",
       "4         it is bordered by tennessee to the north georg...\n",
       "...                                                     ...\n",
       "99995     he was the first born son of constantine i and...\n",
       "99996     they were the 2003 2006 and 2008 wnba champion...\n",
       "99997     36 and dewitt clinton high school in the bronx...\n",
       "99998     he was a republican politician who served as t...\n",
       "99999     exterior arcades are designed to provide a she...\n",
       "\n",
       "[99987 rows x 1 columns]"
      ]
     },
     "execution_count": 21,
     "metadata": {},
     "output_type": "execute_result"
    }
   ],
   "source": [
    "documents_df"
   ]
  },
  {
   "cell_type": "code",
   "execution_count": 22,
   "metadata": {},
   "outputs": [],
   "source": [
    "qrels_all = pd.read_csv('wikIR1k/{}/BM25.qrels.csv'.format(subset), index_col=0)\n",
    "qrels = qrels_all[qrels_all['label'] != 0]\n",
    "\n",
    "qrels_trec = qrels.groupby('id_left')['id_right'].apply(list)"
   ]
  },
  {
   "cell_type": "code",
   "execution_count": 23,
   "metadata": {},
   "outputs": [],
   "source": [
    "n_tmp = 1000"
   ]
  },
  {
   "cell_type": "code",
   "execution_count": 24,
   "metadata": {},
   "outputs": [],
   "source": [
    "qrels_trec_tmp = qrels_trec[:n_tmp].to_dict()"
   ]
  },
  {
   "cell_type": "code",
   "execution_count": 25,
   "metadata": {},
   "outputs": [
    {
     "data": {
      "text/plain": [
       "(1240,)"
      ]
     },
     "execution_count": 25,
     "metadata": {},
     "output_type": "execute_result"
    }
   ],
   "source": [
    "qrels_trec.shape"
   ]
  },
  {
   "cell_type": "code",
   "execution_count": 26,
   "metadata": {},
   "outputs": [],
   "source": [
    "qrels_trec_tmp = {\n",
    "    str(k): {str(v): 1 for v in vals}\n",
    "    for (k, vals) in qrels_trec_tmp.items()\n",
    "}"
   ]
  },
  {
   "cell_type": "code",
   "execution_count": 27,
   "metadata": {},
   "outputs": [
    {
     "name": "stderr",
     "output_type": "stream",
     "text": [
      "100%|██████████| 1645/1645 [01:43<00:00, 15.92it/s]\n"
     ]
    },
    {
     "name": "stdout",
     "output_type": "stream",
     "text": [
      "CPU times: user 1min 43s, sys: 62.9 ms, total: 1min 43s\n",
      "Wall time: 1min 43s\n"
     ]
    }
   ],
   "source": [
    "%%time\n",
    "\n",
    "bm25_relevant_indices = get_predicted_relevant_indices(queries_df, bm25)\n",
    "bm25_relevance_dict = make_relevance_dict(queries_df, bm25_relevant_indices)"
   ]
  },
  {
   "cell_type": "code",
   "execution_count": 28,
   "metadata": {},
   "outputs": [],
   "source": [
    "qrel_path = 'wikIR1k/{}/qrels'.format(subset)\n",
    "evaluator = setup_evaluator_from_relevance_file(qrel_path) "
   ]
  },
  {
   "cell_type": "code",
   "execution_count": 29,
   "metadata": {},
   "outputs": [],
   "source": [
    "results_df = get_results_df(bm25_relevance_dict, evaluator)"
   ]
  },
  {
   "cell_type": "code",
   "execution_count": 30,
   "metadata": {},
   "outputs": [],
   "source": [
    "original_metrics_df = pd.read_json('wikIR1k/{}/BM25.metrics.json'.format(subset), lines=True)\n",
    "results_df = results_df[original_metrics_df.columns]"
   ]
  },
  {
   "cell_type": "code",
   "execution_count": 31,
   "metadata": {},
   "outputs": [
    {
     "data": {
      "text/html": [
       "<div>\n",
       "<style scoped>\n",
       "    .dataframe tbody tr th:only-of-type {\n",
       "        vertical-align: middle;\n",
       "    }\n",
       "\n",
       "    .dataframe tbody tr th {\n",
       "        vertical-align: top;\n",
       "    }\n",
       "\n",
       "    .dataframe thead th {\n",
       "        text-align: right;\n",
       "    }\n",
       "</style>\n",
       "<table border=\"1\" class=\"dataframe\">\n",
       "  <thead>\n",
       "    <tr style=\"text-align: right;\">\n",
       "      <th></th>\n",
       "      <th>0</th>\n",
       "      <th>1</th>\n",
       "    </tr>\n",
       "  </thead>\n",
       "  <tbody>\n",
       "    <tr>\n",
       "      <th>P_5</th>\n",
       "      <td>0.221641</td>\n",
       "      <td>0.223222</td>\n",
       "    </tr>\n",
       "    <tr>\n",
       "      <th>P_10</th>\n",
       "      <td>0.174286</td>\n",
       "      <td>0.174772</td>\n",
       "    </tr>\n",
       "    <tr>\n",
       "      <th>P_20</th>\n",
       "      <td>0.127994</td>\n",
       "      <td>0.128663</td>\n",
       "    </tr>\n",
       "    <tr>\n",
       "      <th>ndcg_cut_5</th>\n",
       "      <td>0.260614</td>\n",
       "      <td>0.261794</td>\n",
       "    </tr>\n",
       "    <tr>\n",
       "      <th>ndcg_cut_10</th>\n",
       "      <td>0.245617</td>\n",
       "      <td>0.246244</td>\n",
       "    </tr>\n",
       "    <tr>\n",
       "      <th>ndcg_cut_20</th>\n",
       "      <td>0.251985</td>\n",
       "      <td>0.252809</td>\n",
       "    </tr>\n",
       "    <tr>\n",
       "      <th>ndcg_cut_100</th>\n",
       "      <td>0.288612</td>\n",
       "      <td>0.289119</td>\n",
       "    </tr>\n",
       "    <tr>\n",
       "      <th>map</th>\n",
       "      <td>0.133709</td>\n",
       "      <td>0.133939</td>\n",
       "    </tr>\n",
       "    <tr>\n",
       "      <th>recall_100</th>\n",
       "      <td>0.325463</td>\n",
       "      <td>0.325820</td>\n",
       "    </tr>\n",
       "  </tbody>\n",
       "</table>\n",
       "</div>"
      ],
      "text/plain": [
       "                     0         1\n",
       "P_5           0.221641  0.223222\n",
       "P_10          0.174286  0.174772\n",
       "P_20          0.127994  0.128663\n",
       "ndcg_cut_5    0.260614  0.261794\n",
       "ndcg_cut_10   0.245617  0.246244\n",
       "ndcg_cut_20   0.251985  0.252809\n",
       "ndcg_cut_100  0.288612  0.289119\n",
       "map           0.133709  0.133939\n",
       "recall_100    0.325463  0.325820"
      ]
     },
     "execution_count": 31,
     "metadata": {},
     "output_type": "execute_result"
    }
   ],
   "source": [
    "pd.concat([original_metrics_df.mean(), results_df.mean()], axis=1)"
   ]
  },
  {
   "cell_type": "code",
   "execution_count": 32,
   "metadata": {},
   "outputs": [
    {
     "data": {
      "text/plain": [
       "<bound method BM25Okapi.get_scores of <rank_bm25.BM25Okapi object at 0x7f822c224e48>>"
      ]
     },
     "execution_count": 32,
     "metadata": {},
     "output_type": "execute_result"
    }
   ],
   "source": [
    "bm25.get_scores"
   ]
  },
  {
   "cell_type": "code",
   "execution_count": 33,
   "metadata": {},
   "outputs": [],
   "source": [
    "from typing import List\n",
    "import attr\n",
    "from sklearn import feature_extraction, base, pipeline, naive_bayes, decomposition\n",
    "\n",
    "\n",
    "class Retriever:\n",
    "    \n",
    "    def retrieve(self, query: List[str], k=100):\n",
    "        raise NotImplementedError()\n",
    " \n",
    "    def _retrieve_bm25(self, query: List[str], k=100):\n",
    "        scores = self.bm25.get_scores(query)\n",
    "        sorted_indices = np.argsort(scores)[::-1][:k]\n",
    "        sorted_scores = scores[sorted_indices]\n",
    "        results_df = self.documents_df.loc[sorted_indices]\n",
    "        results_df['score'] = sorted_scores\n",
    "        return results_df\n",
    "\n",
    "        \n",
    "@attr.s\n",
    "class BM25Retriever(Retriever):\n",
    "    \n",
    "    bm25: rank_bm25.BM25 = attr.ib()\n",
    "    documents_df: pd.DataFrame = attr.ib()\n",
    "        \n",
    "    def retrieve(self, query, k=100):\n",
    "        return self._retrieve_bm25(query, k)\n",
    "    \n",
    "    \n",
    "@attr.s\n",
    "class RFMFRetriever(Retriever):\n",
    "    \n",
    "    bm25: rank_bm25.BM25 = attr.ib()\n",
    "    documents_df: pd.DataFrame = attr.ib()\n",
    "    vectorizer: base.TransformerMixin = attr.ib(default=feature_extraction.text.TfidfVectorizer())\n",
    "    nmf: decomposition.NMF() = attr.ib(default=decomposition.NMF(n_components=100))\n",
    "     \n",
    "    def retrieve(self, query: List[str], k=100):\n",
    "        pseudo_relevant_df = self._retrieve_bm25(query, k)\n",
    "        pseudo_relevant_texts = pseudo_relevant_df['text']\n",
    "        self.pipe = pipeline.make_pipeline(self.vectorizer, self.nmf)\n",
    "        pseudo_relevant_features = pipe.fit_transform(pseudo_relevant_features)\n",
    "        \n",
    "        \n",
    "    def retrieve(self, query: List[str], k=100):\n",
    "        pseudo_relevant_df = self._retrieve_bm25(query, k)\n",
    "        pseudo_relevant_texts = pseudo_relevant_df['text']\n",
    "        self.pipe = pipeline.make_pipeline(self.vectorizer, self.nmf)\n",
    "        pseudo_relevant_features = pipe.fit_transform(pseudo_relevant_features)\n",
    "        "
   ]
  },
  {
   "cell_type": "code",
   "execution_count": 34,
   "metadata": {},
   "outputs": [],
   "source": [
    "def interpolate(old_score, new_score, alpha=0.5):\n",
    "    s_min, s_max = min(old_score), max(old_score)\n",
    "    old_score = (old_score - s_min) / (s_max - s_min)\n",
    "    \n",
    "    s_min, s_max = min(new_score), max(new_score)\n",
    "    new_score = (new_score - s_min) / (s_max - s_min)\n",
    "     \n",
    "    score = old_score * (1 - alpha) + new_score * alpha\n",
    "    return score"
   ]
  },
  {
   "cell_type": "code",
   "execution_count": 36,
   "metadata": {},
   "outputs": [],
   "source": [
    "from wikir_text_mining import vectorizers"
   ]
  },
  {
   "cell_type": "code",
   "execution_count": 41,
   "metadata": {},
   "outputs": [],
   "source": [
    "import scipy\n",
    "from sklearn import linear_model\n",
    "\n",
    "\n",
    "@attr.s\n",
    "class ClassifierRetriever(Retriever):\n",
    "    bm25: rank_bm25.BM25 = attr.ib()\n",
    "    documents_df: pd.DataFrame = attr.ib()\n",
    "    vectorizer: base.TransformerMixin = attr.ib(default=vectorizers.BM25Vectorizer())\n",
    "    clf: base.ClassifierMixin = attr.ib(default=linear_model.LogisticRegression(penalty='l1', solver='liblinear'))\n",
    "    top_used = attr.ib(default=30)\n",
    "    bottom_used = attr.ib(default=30)\n",
    "    \n",
    "    def retrieval_results(self, query, k=100):\n",
    "        pseudo_relevant_df = self._retrieve_bm25(query, k)\n",
    "        pseudo_relevant_texts = pseudo_relevant_df['text']\n",
    "        self.vectorizer.fit(pseudo_relevant_texts)\n",
    "        pseudo_relevant_features = self.vectorizer.transform(pseudo_relevant_texts)\n",
    "        all_features = self.vectorizer.transform(self.documents_df['text'])\n",
    "        positive_features = pseudo_relevant_features[:self.top_used]\n",
    "        negative_features = pseudo_relevant_features[-self.bottom_used:]\n",
    "        X_train = scipy.sparse.vstack([positive_features, negative_features])\n",
    "        y_train = np.ones(X_train.shape[0])\n",
    "        y_train[self.top_used:] = 0\n",
    "        self.clf.fit(X_train, y_train)\n",
    "        print(self.clf.score(X_train, y_train))\n",
    "        clf_scores = self.clf.predict_proba(pseudo_relevant_features)[:,1]\n",
    "        sorted_indices = np.argsort(clf_scores)[::-1][:k]\n",
    "        sorted_scores = clf_scores[sorted_indices]\n",
    "        results_df = pseudo_relevant_df.iloc[sorted_indices]\n",
    "        results_df['score'] = sorted_scores\n",
    "        return results_df, pseudo_relevant_df"
   ]
  },
  {
   "cell_type": "code",
   "execution_count": 42,
   "metadata": {},
   "outputs": [],
   "source": [
    "documents_df['text'] = documents_df['text_right']"
   ]
  },
  {
   "cell_type": "code",
   "execution_count": 43,
   "metadata": {},
   "outputs": [],
   "source": [
    "classifier_retriever = ClassifierRetriever(bm25, documents_df)"
   ]
  },
  {
   "cell_type": "code",
   "execution_count": 44,
   "metadata": {},
   "outputs": [
    {
     "name": "stderr",
     "output_type": "stream",
     "text": [
      "/home/kuba/Projects/wikir_text_mining/wikir_text_mining/vectorizers.py:51: FutureWarning: Conversion of the second argument of issubdtype from `float` to `np.floating` is deprecated. In future, it will be treated as `np.float64 == np.dtype(float).type`.\n",
      "  if hasattr(X, 'dtype') and np.issubdtype(X.dtype, np.float):\n",
      "/home/kuba/Projects/wikir_text_mining/wikir_text_mining/vectorizers.py:51: FutureWarning: Conversion of the second argument of issubdtype from `float` to `np.floating` is deprecated. In future, it will be treated as `np.float64 == np.dtype(float).type`.\n",
      "  if hasattr(X, 'dtype') and np.issubdtype(X.dtype, np.float):\n"
     ]
    },
    {
     "name": "stdout",
     "output_type": "stream",
     "text": [
      "1.0\n",
      "CPU times: user 10.9 s, sys: 188 ms, total: 11.1 s\n",
      "Wall time: 11.1 s\n"
     ]
    }
   ],
   "source": [
    "%%time\n",
    "classifier_results, pseudo_relevant_results = classifier_retriever.retrieval_results(['anatolia'])"
   ]
  },
  {
   "cell_type": "code",
   "execution_count": 45,
   "metadata": {},
   "outputs": [
    {
     "data": {
      "text/html": [
       "<div>\n",
       "<style scoped>\n",
       "    .dataframe tbody tr th:only-of-type {\n",
       "        vertical-align: middle;\n",
       "    }\n",
       "\n",
       "    .dataframe tbody tr th {\n",
       "        vertical-align: top;\n",
       "    }\n",
       "\n",
       "    .dataframe thead th {\n",
       "        text-align: right;\n",
       "    }\n",
       "</style>\n",
       "<table border=\"1\" class=\"dataframe\">\n",
       "  <thead>\n",
       "    <tr style=\"text-align: right;\">\n",
       "      <th></th>\n",
       "      <th>text_right</th>\n",
       "      <th>text</th>\n",
       "      <th>score</th>\n",
       "    </tr>\n",
       "    <tr>\n",
       "      <th>id_right</th>\n",
       "      <th></th>\n",
       "      <th></th>\n",
       "      <th></th>\n",
       "    </tr>\n",
       "  </thead>\n",
       "  <tbody>\n",
       "    <tr>\n",
       "      <th>12845</th>\n",
       "      <td>it consists of the trinidad and tobago regimen...</td>\n",
       "      <td>it consists of the trinidad and tobago regimen...</td>\n",
       "      <td>0.987412</td>\n",
       "    </tr>\n",
       "    <tr>\n",
       "      <th>73474</th>\n",
       "      <td>known for their ethereal sound frontman j nsi ...</td>\n",
       "      <td>known for their ethereal sound frontman j nsi ...</td>\n",
       "      <td>0.983834</td>\n",
       "    </tr>\n",
       "    <tr>\n",
       "      <th>8366</th>\n",
       "      <td>montana has several nicknames although none ar...</td>\n",
       "      <td>montana has several nicknames although none ar...</td>\n",
       "      <td>0.966661</td>\n",
       "    </tr>\n",
       "    <tr>\n",
       "      <th>39740</th>\n",
       "      <td>these subdivisions vary widely in both land an...</td>\n",
       "      <td>these subdivisions vary widely in both land an...</td>\n",
       "      <td>0.965525</td>\n",
       "    </tr>\n",
       "    <tr>\n",
       "      <th>124</th>\n",
       "      <td>it makes up the majority of modern day turkey ...</td>\n",
       "      <td>it makes up the majority of modern day turkey ...</td>\n",
       "      <td>0.964844</td>\n",
       "    </tr>\n",
       "    <tr>\n",
       "      <th>...</th>\n",
       "      <td>...</td>\n",
       "      <td>...</td>\n",
       "      <td>...</td>\n",
       "    </tr>\n",
       "    <tr>\n",
       "      <th>13185</th>\n",
       "      <td>the coptic manuscript itself has been dated to...</td>\n",
       "      <td>the coptic manuscript itself has been dated to...</td>\n",
       "      <td>0.038826</td>\n",
       "    </tr>\n",
       "    <tr>\n",
       "      <th>7100</th>\n",
       "      <td>in common use the term is used to describe the...</td>\n",
       "      <td>in common use the term is used to describe the...</td>\n",
       "      <td>0.037527</td>\n",
       "    </tr>\n",
       "    <tr>\n",
       "      <th>86050</th>\n",
       "      <td>mccoy may 2 1844 october 10 1929 was a canadia...</td>\n",
       "      <td>mccoy may 2 1844 october 10 1929 was a canadia...</td>\n",
       "      <td>0.034328</td>\n",
       "    </tr>\n",
       "    <tr>\n",
       "      <th>96791</th>\n",
       "      <td>the region is located on the northern slopes o...</td>\n",
       "      <td>the region is located on the northern slopes o...</td>\n",
       "      <td>0.028442</td>\n",
       "    </tr>\n",
       "    <tr>\n",
       "      <th>29513</th>\n",
       "      <td>hemoglobinopathies are inherited single gene d...</td>\n",
       "      <td>hemoglobinopathies are inherited single gene d...</td>\n",
       "      <td>0.006816</td>\n",
       "    </tr>\n",
       "  </tbody>\n",
       "</table>\n",
       "<p>100 rows × 3 columns</p>\n",
       "</div>"
      ],
      "text/plain": [
       "                                                 text_right  \\\n",
       "id_right                                                      \n",
       "12845     it consists of the trinidad and tobago regimen...   \n",
       "73474     known for their ethereal sound frontman j nsi ...   \n",
       "8366      montana has several nicknames although none ar...   \n",
       "39740     these subdivisions vary widely in both land an...   \n",
       "124       it makes up the majority of modern day turkey ...   \n",
       "...                                                     ...   \n",
       "13185     the coptic manuscript itself has been dated to...   \n",
       "7100      in common use the term is used to describe the...   \n",
       "86050     mccoy may 2 1844 october 10 1929 was a canadia...   \n",
       "96791     the region is located on the northern slopes o...   \n",
       "29513     hemoglobinopathies are inherited single gene d...   \n",
       "\n",
       "                                                       text     score  \n",
       "id_right                                                               \n",
       "12845     it consists of the trinidad and tobago regimen...  0.987412  \n",
       "73474     known for their ethereal sound frontman j nsi ...  0.983834  \n",
       "8366      montana has several nicknames although none ar...  0.966661  \n",
       "39740     these subdivisions vary widely in both land an...  0.965525  \n",
       "124       it makes up the majority of modern day turkey ...  0.964844  \n",
       "...                                                     ...       ...  \n",
       "13185     the coptic manuscript itself has been dated to...  0.038826  \n",
       "7100      in common use the term is used to describe the...  0.037527  \n",
       "86050     mccoy may 2 1844 october 10 1929 was a canadia...  0.034328  \n",
       "96791     the region is located on the northern slopes o...  0.028442  \n",
       "29513     hemoglobinopathies are inherited single gene d...  0.006816  \n",
       "\n",
       "[100 rows x 3 columns]"
      ]
     },
     "execution_count": 45,
     "metadata": {},
     "output_type": "execute_result"
    }
   ],
   "source": [
    "classifier_results"
   ]
  },
  {
   "cell_type": "code",
   "execution_count": 46,
   "metadata": {},
   "outputs": [
    {
     "data": {
      "text/html": [
       "<div>\n",
       "<style scoped>\n",
       "    .dataframe tbody tr th:only-of-type {\n",
       "        vertical-align: middle;\n",
       "    }\n",
       "\n",
       "    .dataframe tbody tr th {\n",
       "        vertical-align: top;\n",
       "    }\n",
       "\n",
       "    .dataframe thead th {\n",
       "        text-align: right;\n",
       "    }\n",
       "</style>\n",
       "<table border=\"1\" class=\"dataframe\">\n",
       "  <thead>\n",
       "    <tr style=\"text-align: right;\">\n",
       "      <th></th>\n",
       "      <th>text_right</th>\n",
       "      <th>text</th>\n",
       "      <th>score</th>\n",
       "    </tr>\n",
       "    <tr>\n",
       "      <th>id_right</th>\n",
       "      <th></th>\n",
       "      <th></th>\n",
       "      <th></th>\n",
       "    </tr>\n",
       "  </thead>\n",
       "  <tbody>\n",
       "    <tr>\n",
       "      <th>124</th>\n",
       "      <td>it makes up the majority of modern day turkey ...</td>\n",
       "      <td>it makes up the majority of modern day turkey ...</td>\n",
       "      <td>13.556237</td>\n",
       "    </tr>\n",
       "    <tr>\n",
       "      <th>12844</th>\n",
       "      <td>a smaller number of international flights from...</td>\n",
       "      <td>a smaller number of international flights from...</td>\n",
       "      <td>12.322697</td>\n",
       "    </tr>\n",
       "    <tr>\n",
       "      <th>20262</th>\n",
       "      <td>the new growth from seed germination that grow...</td>\n",
       "      <td>the new growth from seed germination that grow...</td>\n",
       "      <td>11.294923</td>\n",
       "    </tr>\n",
       "    <tr>\n",
       "      <th>73474</th>\n",
       "      <td>known for their ethereal sound frontman j nsi ...</td>\n",
       "      <td>known for their ethereal sound frontman j nsi ...</td>\n",
       "      <td>11.294923</td>\n",
       "    </tr>\n",
       "    <tr>\n",
       "      <th>9486</th>\n",
       "      <td>spanning the eastern and western hemispheres o...</td>\n",
       "      <td>spanning the eastern and western hemispheres o...</td>\n",
       "      <td>11.294923</td>\n",
       "    </tr>\n",
       "    <tr>\n",
       "      <th>...</th>\n",
       "      <td>...</td>\n",
       "      <td>...</td>\n",
       "      <td>...</td>\n",
       "    </tr>\n",
       "    <tr>\n",
       "      <th>1627</th>\n",
       "      <td>in north america the populations of brown bear...</td>\n",
       "      <td>in north america the populations of brown bear...</td>\n",
       "      <td>6.774625</td>\n",
       "    </tr>\n",
       "    <tr>\n",
       "      <th>10537</th>\n",
       "      <td>he set forth one of the most elaborate and ful...</td>\n",
       "      <td>he set forth one of the most elaborate and ful...</td>\n",
       "      <td>6.774625</td>\n",
       "    </tr>\n",
       "    <tr>\n",
       "      <th>413</th>\n",
       "      <td>the empire united akkadian and sumerian speake...</td>\n",
       "      <td>the empire united akkadian and sumerian speake...</td>\n",
       "      <td>6.774625</td>\n",
       "    </tr>\n",
       "    <tr>\n",
       "      <th>5455</th>\n",
       "      <td>she is the daughter of the titans cronus and r...</td>\n",
       "      <td>she is the daughter of the titans cronus and r...</td>\n",
       "      <td>6.774625</td>\n",
       "    </tr>\n",
       "    <tr>\n",
       "      <th>29513</th>\n",
       "      <td>hemoglobinopathies are inherited single gene d...</td>\n",
       "      <td>hemoglobinopathies are inherited single gene d...</td>\n",
       "      <td>6.774625</td>\n",
       "    </tr>\n",
       "  </tbody>\n",
       "</table>\n",
       "<p>100 rows × 3 columns</p>\n",
       "</div>"
      ],
      "text/plain": [
       "                                                 text_right  \\\n",
       "id_right                                                      \n",
       "124       it makes up the majority of modern day turkey ...   \n",
       "12844     a smaller number of international flights from...   \n",
       "20262     the new growth from seed germination that grow...   \n",
       "73474     known for their ethereal sound frontman j nsi ...   \n",
       "9486      spanning the eastern and western hemispheres o...   \n",
       "...                                                     ...   \n",
       "1627      in north america the populations of brown bear...   \n",
       "10537     he set forth one of the most elaborate and ful...   \n",
       "413       the empire united akkadian and sumerian speake...   \n",
       "5455      she is the daughter of the titans cronus and r...   \n",
       "29513     hemoglobinopathies are inherited single gene d...   \n",
       "\n",
       "                                                       text      score  \n",
       "id_right                                                                \n",
       "124       it makes up the majority of modern day turkey ...  13.556237  \n",
       "12844     a smaller number of international flights from...  12.322697  \n",
       "20262     the new growth from seed germination that grow...  11.294923  \n",
       "73474     known for their ethereal sound frontman j nsi ...  11.294923  \n",
       "9486      spanning the eastern and western hemispheres o...  11.294923  \n",
       "...                                                     ...        ...  \n",
       "1627      in north america the populations of brown bear...   6.774625  \n",
       "10537     he set forth one of the most elaborate and ful...   6.774625  \n",
       "413       the empire united akkadian and sumerian speake...   6.774625  \n",
       "5455      she is the daughter of the titans cronus and r...   6.774625  \n",
       "29513     hemoglobinopathies are inherited single gene d...   6.774625  \n",
       "\n",
       "[100 rows x 3 columns]"
      ]
     },
     "execution_count": 46,
     "metadata": {},
     "output_type": "execute_result"
    }
   ],
   "source": [
    "pseudo_relevant_results"
   ]
  },
  {
   "cell_type": "code",
   "execution_count": 47,
   "metadata": {},
   "outputs": [],
   "source": [
    "merged_results = pd.merge(classifier_results, pseudo_relevant_results[['score']], on='id_right', suffixes=['_classifier', '_bm25'])"
   ]
  },
  {
   "cell_type": "code",
   "execution_count": 48,
   "metadata": {},
   "outputs": [],
   "source": [
    "interpolated_score = interpolate(pseudo_relevant_results['score'].values, classifier_results['score'].values, alpha=0.9)"
   ]
  },
  {
   "cell_type": "code",
   "execution_count": 52,
   "metadata": {},
   "outputs": [
    {
     "data": {
      "text/html": [
       "<div>\n",
       "<style scoped>\n",
       "    .dataframe tbody tr th:only-of-type {\n",
       "        vertical-align: middle;\n",
       "    }\n",
       "\n",
       "    .dataframe tbody tr th {\n",
       "        vertical-align: top;\n",
       "    }\n",
       "\n",
       "    .dataframe thead th {\n",
       "        text-align: right;\n",
       "    }\n",
       "</style>\n",
       "<table border=\"1\" class=\"dataframe\">\n",
       "  <thead>\n",
       "    <tr style=\"text-align: right;\">\n",
       "      <th></th>\n",
       "      <th>text_right</th>\n",
       "      <th>text</th>\n",
       "      <th>score_classifier</th>\n",
       "      <th>score_bm25</th>\n",
       "      <th>interpolated_score</th>\n",
       "    </tr>\n",
       "    <tr>\n",
       "      <th>id_right</th>\n",
       "      <th></th>\n",
       "      <th></th>\n",
       "      <th></th>\n",
       "      <th></th>\n",
       "      <th></th>\n",
       "    </tr>\n",
       "  </thead>\n",
       "  <tbody>\n",
       "    <tr>\n",
       "      <th>12845</th>\n",
       "      <td>it consists of the trinidad and tobago regimen...</td>\n",
       "      <td>it consists of the trinidad and tobago regimen...</td>\n",
       "      <td>0.987412</td>\n",
       "      <td>6.774625</td>\n",
       "      <td>0.800000</td>\n",
       "    </tr>\n",
       "    <tr>\n",
       "      <th>73474</th>\n",
       "      <td>known for their ethereal sound frontman j nsi ...</td>\n",
       "      <td>known for their ethereal sound frontman j nsi ...</td>\n",
       "      <td>0.983834</td>\n",
       "      <td>11.294923</td>\n",
       "      <td>0.930391</td>\n",
       "    </tr>\n",
       "    <tr>\n",
       "      <th>8366</th>\n",
       "      <td>montana has several nicknames although none ar...</td>\n",
       "      <td>montana has several nicknames although none ar...</td>\n",
       "      <td>0.966661</td>\n",
       "      <td>9.680174</td>\n",
       "      <td>0.868760</td>\n",
       "    </tr>\n",
       "    <tr>\n",
       "      <th>39740</th>\n",
       "      <td>these subdivisions vary widely in both land an...</td>\n",
       "      <td>these subdivisions vary widely in both land an...</td>\n",
       "      <td>0.965525</td>\n",
       "      <td>6.774625</td>\n",
       "      <td>0.782144</td>\n",
       "    </tr>\n",
       "    <tr>\n",
       "      <th>124</th>\n",
       "      <td>it makes up the majority of modern day turkey ...</td>\n",
       "      <td>it makes up the majority of modern day turkey ...</td>\n",
       "      <td>0.964844</td>\n",
       "      <td>13.556237</td>\n",
       "      <td>0.981589</td>\n",
       "    </tr>\n",
       "    <tr>\n",
       "      <th>...</th>\n",
       "      <td>...</td>\n",
       "      <td>...</td>\n",
       "      <td>...</td>\n",
       "      <td>...</td>\n",
       "      <td>...</td>\n",
       "    </tr>\n",
       "    <tr>\n",
       "      <th>13185</th>\n",
       "      <td>the coptic manuscript itself has been dated to...</td>\n",
       "      <td>the coptic manuscript itself has been dated to...</td>\n",
       "      <td>0.038826</td>\n",
       "      <td>6.774625</td>\n",
       "      <td>0.026114</td>\n",
       "    </tr>\n",
       "    <tr>\n",
       "      <th>7100</th>\n",
       "      <td>in common use the term is used to describe the...</td>\n",
       "      <td>in common use the term is used to describe the...</td>\n",
       "      <td>0.037527</td>\n",
       "      <td>6.774625</td>\n",
       "      <td>0.025055</td>\n",
       "    </tr>\n",
       "    <tr>\n",
       "      <th>86050</th>\n",
       "      <td>mccoy may 2 1844 october 10 1929 was a canadia...</td>\n",
       "      <td>mccoy may 2 1844 october 10 1929 was a canadia...</td>\n",
       "      <td>0.034328</td>\n",
       "      <td>6.774625</td>\n",
       "      <td>0.022445</td>\n",
       "    </tr>\n",
       "    <tr>\n",
       "      <th>96791</th>\n",
       "      <td>the region is located on the northern slopes o...</td>\n",
       "      <td>the region is located on the northern slopes o...</td>\n",
       "      <td>0.028442</td>\n",
       "      <td>6.774625</td>\n",
       "      <td>0.017642</td>\n",
       "    </tr>\n",
       "    <tr>\n",
       "      <th>29513</th>\n",
       "      <td>hemoglobinopathies are inherited single gene d...</td>\n",
       "      <td>hemoglobinopathies are inherited single gene d...</td>\n",
       "      <td>0.006816</td>\n",
       "      <td>6.774625</td>\n",
       "      <td>0.000000</td>\n",
       "    </tr>\n",
       "  </tbody>\n",
       "</table>\n",
       "<p>100 rows × 5 columns</p>\n",
       "</div>"
      ],
      "text/plain": [
       "                                                 text_right  \\\n",
       "id_right                                                      \n",
       "12845     it consists of the trinidad and tobago regimen...   \n",
       "73474     known for their ethereal sound frontman j nsi ...   \n",
       "8366      montana has several nicknames although none ar...   \n",
       "39740     these subdivisions vary widely in both land an...   \n",
       "124       it makes up the majority of modern day turkey ...   \n",
       "...                                                     ...   \n",
       "13185     the coptic manuscript itself has been dated to...   \n",
       "7100      in common use the term is used to describe the...   \n",
       "86050     mccoy may 2 1844 october 10 1929 was a canadia...   \n",
       "96791     the region is located on the northern slopes o...   \n",
       "29513     hemoglobinopathies are inherited single gene d...   \n",
       "\n",
       "                                                       text  score_classifier  \\\n",
       "id_right                                                                        \n",
       "12845     it consists of the trinidad and tobago regimen...          0.987412   \n",
       "73474     known for their ethereal sound frontman j nsi ...          0.983834   \n",
       "8366      montana has several nicknames although none ar...          0.966661   \n",
       "39740     these subdivisions vary widely in both land an...          0.965525   \n",
       "124       it makes up the majority of modern day turkey ...          0.964844   \n",
       "...                                                     ...               ...   \n",
       "13185     the coptic manuscript itself has been dated to...          0.038826   \n",
       "7100      in common use the term is used to describe the...          0.037527   \n",
       "86050     mccoy may 2 1844 october 10 1929 was a canadia...          0.034328   \n",
       "96791     the region is located on the northern slopes o...          0.028442   \n",
       "29513     hemoglobinopathies are inherited single gene d...          0.006816   \n",
       "\n",
       "          score_bm25  interpolated_score  \n",
       "id_right                                  \n",
       "12845       6.774625            0.800000  \n",
       "73474      11.294923            0.930391  \n",
       "8366        9.680174            0.868760  \n",
       "39740       6.774625            0.782144  \n",
       "124        13.556237            0.981589  \n",
       "...              ...                 ...  \n",
       "13185       6.774625            0.026114  \n",
       "7100        6.774625            0.025055  \n",
       "86050       6.774625            0.022445  \n",
       "96791       6.774625            0.017642  \n",
       "29513       6.774625            0.000000  \n",
       "\n",
       "[100 rows x 5 columns]"
      ]
     },
     "execution_count": 52,
     "metadata": {},
     "output_type": "execute_result"
    }
   ],
   "source": [
    "merged_results"
   ]
  },
  {
   "cell_type": "code",
   "execution_count": 54,
   "metadata": {},
   "outputs": [],
   "source": [
    "merged_results['interpolated_score'] = interpolate(merged_results['score_classifier'].values, merged_results['score_bm25'].values, alpha=0.2)"
   ]
  },
  {
   "cell_type": "code",
   "execution_count": 55,
   "metadata": {},
   "outputs": [
    {
     "data": {
      "text/html": [
       "<div>\n",
       "<style scoped>\n",
       "    .dataframe tbody tr th:only-of-type {\n",
       "        vertical-align: middle;\n",
       "    }\n",
       "\n",
       "    .dataframe tbody tr th {\n",
       "        vertical-align: top;\n",
       "    }\n",
       "\n",
       "    .dataframe thead th {\n",
       "        text-align: right;\n",
       "    }\n",
       "</style>\n",
       "<table border=\"1\" class=\"dataframe\">\n",
       "  <thead>\n",
       "    <tr style=\"text-align: right;\">\n",
       "      <th></th>\n",
       "      <th>text_right</th>\n",
       "      <th>text</th>\n",
       "      <th>score_classifier</th>\n",
       "      <th>score_bm25</th>\n",
       "      <th>interpolated_score</th>\n",
       "    </tr>\n",
       "    <tr>\n",
       "      <th>id_right</th>\n",
       "      <th></th>\n",
       "      <th></th>\n",
       "      <th></th>\n",
       "      <th></th>\n",
       "      <th></th>\n",
       "    </tr>\n",
       "  </thead>\n",
       "  <tbody>\n",
       "    <tr>\n",
       "      <th>124</th>\n",
       "      <td>it makes up the majority of modern day turkey ...</td>\n",
       "      <td>it makes up the majority of modern day turkey ...</td>\n",
       "      <td>0.964844</td>\n",
       "      <td>13.556237</td>\n",
       "      <td>0.981589</td>\n",
       "    </tr>\n",
       "    <tr>\n",
       "      <th>73474</th>\n",
       "      <td>known for their ethereal sound frontman j nsi ...</td>\n",
       "      <td>known for their ethereal sound frontman j nsi ...</td>\n",
       "      <td>0.983834</td>\n",
       "      <td>11.294923</td>\n",
       "      <td>0.930391</td>\n",
       "    </tr>\n",
       "    <tr>\n",
       "      <th>12844</th>\n",
       "      <td>a smaller number of international flights from...</td>\n",
       "      <td>a smaller number of international flights from...</td>\n",
       "      <td>0.930426</td>\n",
       "      <td>12.322697</td>\n",
       "      <td>0.917131</td>\n",
       "    </tr>\n",
       "    <tr>\n",
       "      <th>87198</th>\n",
       "      <td>on march 24 1989 while owned by the former exx...</td>\n",
       "      <td>on march 24 1989 while owned by the former exx...</td>\n",
       "      <td>0.916478</td>\n",
       "      <td>11.294923</td>\n",
       "      <td>0.875440</td>\n",
       "    </tr>\n",
       "    <tr>\n",
       "      <th>39738</th>\n",
       "      <td>the premise of the sketch is that abbott is id...</td>\n",
       "      <td>the premise of the sketch is that abbott is id...</td>\n",
       "      <td>0.915754</td>\n",
       "      <td>11.294923</td>\n",
       "      <td>0.874850</td>\n",
       "    </tr>\n",
       "    <tr>\n",
       "      <th>...</th>\n",
       "      <td>...</td>\n",
       "      <td>...</td>\n",
       "      <td>...</td>\n",
       "      <td>...</td>\n",
       "      <td>...</td>\n",
       "    </tr>\n",
       "    <tr>\n",
       "      <th>13185</th>\n",
       "      <td>the coptic manuscript itself has been dated to...</td>\n",
       "      <td>the coptic manuscript itself has been dated to...</td>\n",
       "      <td>0.038826</td>\n",
       "      <td>6.774625</td>\n",
       "      <td>0.026114</td>\n",
       "    </tr>\n",
       "    <tr>\n",
       "      <th>7100</th>\n",
       "      <td>in common use the term is used to describe the...</td>\n",
       "      <td>in common use the term is used to describe the...</td>\n",
       "      <td>0.037527</td>\n",
       "      <td>6.774625</td>\n",
       "      <td>0.025055</td>\n",
       "    </tr>\n",
       "    <tr>\n",
       "      <th>86050</th>\n",
       "      <td>mccoy may 2 1844 october 10 1929 was a canadia...</td>\n",
       "      <td>mccoy may 2 1844 october 10 1929 was a canadia...</td>\n",
       "      <td>0.034328</td>\n",
       "      <td>6.774625</td>\n",
       "      <td>0.022445</td>\n",
       "    </tr>\n",
       "    <tr>\n",
       "      <th>96791</th>\n",
       "      <td>the region is located on the northern slopes o...</td>\n",
       "      <td>the region is located on the northern slopes o...</td>\n",
       "      <td>0.028442</td>\n",
       "      <td>6.774625</td>\n",
       "      <td>0.017642</td>\n",
       "    </tr>\n",
       "    <tr>\n",
       "      <th>29513</th>\n",
       "      <td>hemoglobinopathies are inherited single gene d...</td>\n",
       "      <td>hemoglobinopathies are inherited single gene d...</td>\n",
       "      <td>0.006816</td>\n",
       "      <td>6.774625</td>\n",
       "      <td>0.000000</td>\n",
       "    </tr>\n",
       "  </tbody>\n",
       "</table>\n",
       "<p>100 rows × 5 columns</p>\n",
       "</div>"
      ],
      "text/plain": [
       "                                                 text_right  \\\n",
       "id_right                                                      \n",
       "124       it makes up the majority of modern day turkey ...   \n",
       "73474     known for their ethereal sound frontman j nsi ...   \n",
       "12844     a smaller number of international flights from...   \n",
       "87198     on march 24 1989 while owned by the former exx...   \n",
       "39738     the premise of the sketch is that abbott is id...   \n",
       "...                                                     ...   \n",
       "13185     the coptic manuscript itself has been dated to...   \n",
       "7100      in common use the term is used to describe the...   \n",
       "86050     mccoy may 2 1844 october 10 1929 was a canadia...   \n",
       "96791     the region is located on the northern slopes o...   \n",
       "29513     hemoglobinopathies are inherited single gene d...   \n",
       "\n",
       "                                                       text  score_classifier  \\\n",
       "id_right                                                                        \n",
       "124       it makes up the majority of modern day turkey ...          0.964844   \n",
       "73474     known for their ethereal sound frontman j nsi ...          0.983834   \n",
       "12844     a smaller number of international flights from...          0.930426   \n",
       "87198     on march 24 1989 while owned by the former exx...          0.916478   \n",
       "39738     the premise of the sketch is that abbott is id...          0.915754   \n",
       "...                                                     ...               ...   \n",
       "13185     the coptic manuscript itself has been dated to...          0.038826   \n",
       "7100      in common use the term is used to describe the...          0.037527   \n",
       "86050     mccoy may 2 1844 october 10 1929 was a canadia...          0.034328   \n",
       "96791     the region is located on the northern slopes o...          0.028442   \n",
       "29513     hemoglobinopathies are inherited single gene d...          0.006816   \n",
       "\n",
       "          score_bm25  interpolated_score  \n",
       "id_right                                  \n",
       "124        13.556237            0.981589  \n",
       "73474      11.294923            0.930391  \n",
       "12844      12.322697            0.917131  \n",
       "87198      11.294923            0.875440  \n",
       "39738      11.294923            0.874850  \n",
       "...              ...                 ...  \n",
       "13185       6.774625            0.026114  \n",
       "7100        6.774625            0.025055  \n",
       "86050       6.774625            0.022445  \n",
       "96791       6.774625            0.017642  \n",
       "29513       6.774625            0.000000  \n",
       "\n",
       "[100 rows x 5 columns]"
      ]
     },
     "execution_count": 55,
     "metadata": {},
     "output_type": "execute_result"
    }
   ],
   "source": [
    "merged_results.sort_values(by='interpolated_score', ascending=False)"
   ]
  }
 ],
 "metadata": {
  "kernelspec": {
   "display_name": "wikir",
   "language": "python",
   "name": "wikir"
  },
  "language_info": {
   "codemirror_mode": {
    "name": "ipython",
    "version": 3
   },
   "file_extension": ".py",
   "mimetype": "text/x-python",
   "name": "python",
   "nbconvert_exporter": "python",
   "pygments_lexer": "ipython3",
   "version": "3.7.3"
  }
 },
 "nbformat": 4,
 "nbformat_minor": 2
}
