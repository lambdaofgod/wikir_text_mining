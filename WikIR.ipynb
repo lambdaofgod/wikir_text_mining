{
 "cells": [
  {
   "cell_type": "code",
   "execution_count": 1,
   "metadata": {},
   "outputs": [],
   "source": [
    "import pandas as pd\n",
    "import numpy as np\n",
    "import matplotlib.pyplot as plt\n",
    "%matplotlib inline\n",
    "\n",
    "plt.style.use('dark_background')"
   ]
  },
  {
   "cell_type": "code",
   "execution_count": 28,
   "metadata": {},
   "outputs": [
    {
     "name": "stdout",
     "output_type": "stream",
     "text": [
      "/home/kuba/Projects/ml_project\n"
     ]
    }
   ],
   "source": [
    "!pwd"
   ]
  },
  {
   "cell_type": "code",
   "execution_count": 27,
   "metadata": {},
   "outputs": [
    {
     "name": "stdout",
     "output_type": "stream",
     "text": [
      "BM25.metrics.json  BM25.qrels.csv  BM25.res  qrels  queries.csv\n"
     ]
    }
   ],
   "source": [
    "!ls wikIR1k/training/"
   ]
  },
  {
   "cell_type": "code",
   "execution_count": 3,
   "metadata": {},
   "outputs": [
    {
     "name": "stdout",
     "output_type": "stream",
     "text": [
      "id_left,text_left\n",
      "17783,apulia\n",
      "6054,isaac newton\n",
      "13635,u boat\n",
      "30212,provinces of france\n",
      "8663,mattel\n",
      "18449,vandals\n",
      "15010,the walt disney company\n",
      "4863,george orwell\n",
      "349,aol\n"
     ]
    }
   ],
   "source": [
    "!head wikIR1k/training/queries.csv"
   ]
  },
  {
   "cell_type": "code",
   "execution_count": 4,
   "metadata": {},
   "outputs": [
    {
     "name": "stdout",
     "output_type": "stream",
     "text": [
      "0 wikIR1k/training/BM25.metrics.json\n"
     ]
    }
   ],
   "source": [
    "!wc -l wikIR1k/training/BM25.metrics.json"
   ]
  },
  {
   "cell_type": "code",
   "execution_count": 5,
   "metadata": {},
   "outputs": [
    {
     "name": "stdout",
     "output_type": "stream",
     "text": [
      "{\"P_5\": 0.22164133738601574, \"P_10\": 0.17428571428571302, \"P_20\": 0.12799392097264375, \"ndcg_cut_5\": 0.26061449994418684, \"ndcg_cut_10\": 0.24561694742388185, \"ndcg_cut_20\": 0.2519854508215273, \"ndcg_cut_100\": 0.28861192661304225, \"map\": 0.1337089125785199, \"recall_100\": 0.32546280449193543}"
     ]
    }
   ],
   "source": [
    "!head wikIR1k/training/BM25.metrics.json"
   ]
  },
  {
   "cell_type": "code",
   "execution_count": 6,
   "metadata": {},
   "outputs": [
    {
     "name": "stdout",
     "output_type": "stream",
     "text": [
      ",id_left,id_right,label\n",
      "0,17783,77063,0\n",
      "1,17783,17774,0\n",
      "2,17783,17783,2\n",
      "3,17783,20576,0\n",
      "4,17783,77066,0\n",
      "5,17783,35888,1\n",
      "6,17783,77064,0\n",
      "7,17783,97038,1\n",
      "8,17783,29547,0\n"
     ]
    }
   ],
   "source": [
    "!head wikIR1k/training/BM25.qrels.csv"
   ]
  },
  {
   "cell_type": "code",
   "execution_count": 7,
   "metadata": {},
   "outputs": [
    {
     "name": "stdout",
     "output_type": "stream",
     "text": [
      "17783\t0\t17783\t2\n",
      "17783\t0\t17784\t1\n",
      "17783\t0\t17846\t1\n",
      "17783\t0\t17994\t1\n",
      "17783\t0\t17997\t1\n",
      "17783\t0\t18747\t1\n",
      "17783\t0\t21972\t1\n",
      "17783\t0\t35888\t1\n",
      "17783\t0\t37702\t1\n",
      "17783\t0\t76737\t1\n"
     ]
    }
   ],
   "source": [
    "!head wikIR1k/training/qrels"
   ]
  },
  {
   "cell_type": "markdown",
   "metadata": {},
   "source": [
    "## Documents"
   ]
  },
  {
   "cell_type": "code",
   "execution_count": 8,
   "metadata": {},
   "outputs": [],
   "source": [
    "documents_df = pd.read_csv('wikIR1k/documents.csv', index_col='id_right')"
   ]
  },
  {
   "cell_type": "code",
   "execution_count": 9,
   "metadata": {},
   "outputs": [
    {
     "name": "stdout",
     "output_type": "stream",
     "text": [
      "<class 'pandas.core.frame.DataFrame'>\n",
      "Int64Index: 99987 entries, 0 to 99999\n",
      "Data columns (total 1 columns):\n",
      "text_right    99987 non-null object\n",
      "dtypes: object(1)\n",
      "memory usage: 1.5+ MB\n"
     ]
    }
   ],
   "source": [
    "documents_df.info()"
   ]
  },
  {
   "cell_type": "code",
   "execution_count": 10,
   "metadata": {},
   "outputs": [
    {
     "data": {
      "text/html": [
       "<div>\n",
       "<style scoped>\n",
       "    .dataframe tbody tr th:only-of-type {\n",
       "        vertical-align: middle;\n",
       "    }\n",
       "\n",
       "    .dataframe tbody tr th {\n",
       "        vertical-align: top;\n",
       "    }\n",
       "\n",
       "    .dataframe thead th {\n",
       "        text-align: right;\n",
       "    }\n",
       "</style>\n",
       "<table border=\"1\" class=\"dataframe\">\n",
       "  <thead>\n",
       "    <tr style=\"text-align: right;\">\n",
       "      <th></th>\n",
       "      <th>text_right</th>\n",
       "    </tr>\n",
       "    <tr>\n",
       "      <th>id_right</th>\n",
       "      <th></th>\n",
       "    </tr>\n",
       "  </thead>\n",
       "  <tbody>\n",
       "    <tr>\n",
       "      <th>0</th>\n",
       "      <td>these institutions are often described as stat...</td>\n",
       "    </tr>\n",
       "    <tr>\n",
       "      <th>1</th>\n",
       "      <td>parents usually notice signs during the first ...</td>\n",
       "    </tr>\n",
       "    <tr>\n",
       "      <th>2</th>\n",
       "      <td>a planet like earth it is dimensionless and me...</td>\n",
       "    </tr>\n",
       "    <tr>\n",
       "      <th>3</th>\n",
       "      <td>it is similar to the ancient greek letter alph...</td>\n",
       "    </tr>\n",
       "    <tr>\n",
       "      <th>4</th>\n",
       "      <td>it is bordered by tennessee to the north georg...</td>\n",
       "    </tr>\n",
       "  </tbody>\n",
       "</table>\n",
       "</div>"
      ],
      "text/plain": [
       "                                                 text_right\n",
       "id_right                                                   \n",
       "0         these institutions are often described as stat...\n",
       "1         parents usually notice signs during the first ...\n",
       "2         a planet like earth it is dimensionless and me...\n",
       "3         it is similar to the ancient greek letter alph...\n",
       "4         it is bordered by tennessee to the north georg..."
      ]
     },
     "execution_count": 10,
     "metadata": {},
     "output_type": "execute_result"
    }
   ],
   "source": [
    "documents_df.head()"
   ]
  },
  {
   "cell_type": "code",
   "execution_count": 11,
   "metadata": {},
   "outputs": [],
   "source": [
    "document_lengths = documents_df['text_right'].apply(lambda s: s.count(' '))"
   ]
  },
  {
   "cell_type": "code",
   "execution_count": 12,
   "metadata": {},
   "outputs": [
    {
     "data": {
      "image/png": "[encoded data removed]",
      "text/plain": [
       "<Figure size 432x288 with 1 Axes>"
      ]
     },
     "metadata": {
      "needs_background": "dark"
     },
     "output_type": "display_data"
    }
   ],
   "source": [
    "document_lengths.plot.hist();"
   ]
  },
  {
   "cell_type": "markdown",
   "metadata": {},
   "source": [
    "## Queries"
   ]
  },
  {
   "cell_type": "code",
   "execution_count": 13,
   "metadata": {},
   "outputs": [],
   "source": [
    "queries_df = pd.read_csv('wikIR1k/training/queries.csv', index_col='id_left')"
   ]
  },
  {
   "cell_type": "code",
   "execution_count": 14,
   "metadata": {},
   "outputs": [
    {
     "name": "stdout",
     "output_type": "stream",
     "text": [
      "<class 'pandas.core.frame.DataFrame'>\n",
      "Int64Index: 1645 entries, 17783 to 12052\n",
      "Data columns (total 1 columns):\n",
      "text_left    1645 non-null object\n",
      "dtypes: object(1)\n",
      "memory usage: 25.7+ KB\n"
     ]
    }
   ],
   "source": [
    "queries_df.info()"
   ]
  },
  {
   "cell_type": "code",
   "execution_count": 15,
   "metadata": {},
   "outputs": [
    {
     "data": {
      "image/png": "[encoded data removed]",
      "text/plain": [
       "<Figure size 432x288 with 1 Axes>"
      ]
     },
     "metadata": {
      "needs_background": "dark"
     },
     "output_type": "display_data"
    }
   ],
   "source": [
    "queries_df['text_left'].apply(lambda s: len(s.split())).plot.hist();"
   ]
  },
  {
   "cell_type": "markdown",
   "metadata": {},
   "source": [
    "# BM25 results"
   ]
  },
  {
   "cell_type": "code",
   "execution_count": 16,
   "metadata": {},
   "outputs": [
    {
     "name": "stdout",
     "output_type": "stream",
     "text": [
      ",id_left,id_right,label\n",
      "0,17783,77063,0\n",
      "1,17783,17774,0\n",
      "2,17783,17783,2\n",
      "3,17783,20576,0\n",
      "4,17783,77066,0\n",
      "5,17783,35888,1\n",
      "6,17783,77064,0\n",
      "7,17783,97038,1\n",
      "8,17783,29547,0\n"
     ]
    }
   ],
   "source": [
    "!head wikIR1k/training/BM25.qrels.csv"
   ]
  },
  {
   "cell_type": "code",
   "execution_count": 17,
   "metadata": {},
   "outputs": [],
   "source": [
    "import rank_bm25"
   ]
  },
  {
   "cell_type": "code",
   "execution_count": 18,
   "metadata": {},
   "outputs": [
    {
     "data": {
      "text/plain": [
       "id_right\n",
       "0        these institutions are often described as stat...\n",
       "1        parents usually notice signs during the first ...\n",
       "2        a planet like earth it is dimensionless and me...\n",
       "3        it is similar to the ancient greek letter alph...\n",
       "4        it is bordered by tennessee to the north georg...\n",
       "                               ...                        \n",
       "99995    he was the first born son of constantine i and...\n",
       "99996    they were the 2003 2006 and 2008 wnba champion...\n",
       "99997    36 and dewitt clinton high school in the bronx...\n",
       "99998    he was a republican politician who served as t...\n",
       "99999    exterior arcades are designed to provide a she...\n",
       "Name: text_right, Length: 99987, dtype: object"
      ]
     },
     "execution_count": 18,
     "metadata": {},
     "output_type": "execute_result"
    }
   ],
   "source": [
    "documents_df['text_right']"
   ]
  },
  {
   "cell_type": "code",
   "execution_count": 19,
   "metadata": {},
   "outputs": [
    {
     "data": {
      "text/plain": [
       "id_right\n",
       "0        these institutions are often described as stat...\n",
       "1        parents usually notice signs during the first ...\n",
       "2        a planet like earth it is dimensionless and me...\n",
       "3        it is similar to the ancient greek letter alph...\n",
       "4        it is bordered by tennessee to the north georg...\n",
       "                               ...                        \n",
       "99995    he was the first born son of constantine i and...\n",
       "99996    they were the 2003 2006 and 2008 wnba champion...\n",
       "99997    36 and dewitt clinton high school in the bronx...\n",
       "99998    he was a republican politician who served as t...\n",
       "99999    exterior arcades are designed to provide a she...\n",
       "Name: text_right, Length: 99987, dtype: object"
      ]
     },
     "execution_count": 19,
     "metadata": {},
     "output_type": "execute_result"
    }
   ],
   "source": [
    "documents_df['text_right']"
   ]
  },
  {
   "cell_type": "code",
   "execution_count": 20,
   "metadata": {},
   "outputs": [
    {
     "name": "stderr",
     "output_type": "stream",
     "text": [
      "/etc/miniconda/envs/ml/lib/python3.7/site-packages/sklearn/utils/deprecation.py:144: FutureWarning: The sklearn.feature_extraction.stop_words module is  deprecated in version 0.22 and will be removed in version 0.24. The corresponding classes / functions should instead be imported from sklearn.feature_extraction.text. Anything that cannot be imported from sklearn.feature_extraction.text is now part of the private API.\n",
      "  warnings.warn(message, FutureWarning)\n",
      "WARNING: Logging before flag parsing goes to stderr.\n",
      "W0109 23:22:03.829391 139994100246336 __init__.py:56] Some hub symbols are not available because TensorFlow version is less than 1.14\n"
     ]
    }
   ],
   "source": [
    "import nltk\n",
    "from nltk import stem\n",
    "import tqdm \n",
    "from mlutil.parallel import mapp\n",
    "from toolz import partial\n",
    "\n",
    "\n",
    "stop_words = set(nltk.corpus.stopwords.words('english'))\n",
    "\n",
    "\n",
    "def get_document_stems(doc_with_key, stemmer):\n",
    "    key, value = doc_with_key\n",
    "    value = value['text_right']\n",
    "    stems = [stemmer.stem(elem) for elem in value.split(\" \") if elem not in stop_words]\n",
    "    return key, stems \n",
    "\n",
    "\n",
    "def make_bm25(documents, stemmer=stem.PorterStemmer()):\n",
    "    docs_dict = dict(mapp(partial(get_document_stems, stemmer=stemmer), documents.iterrows()))\n",
    "    return rank_bm25.BM25Okapi(docs_dict.values())"
   ]
  },
  {
   "cell_type": "code",
   "execution_count": 22,
   "metadata": {},
   "outputs": [
    {
     "name": "stdout",
     "output_type": "stream",
     "text": [
      "CPU times: user 51.5 s, sys: 4.26 s, total: 55.8 s\n",
      "Wall time: 1min 1s\n"
     ]
    }
   ],
   "source": [
    "%%time\n",
    "bm25 = make_bm25(documents_df)"
   ]
  },
  {
   "cell_type": "code",
   "execution_count": 23,
   "metadata": {},
   "outputs": [
    {
     "name": "stdout",
     "output_type": "stream",
     "text": [
      "['anatolia']\n"
     ]
    }
   ],
   "source": [
    "query = queries_df['text_left'].iloc[20].split()\n",
    "sorted_indices = np.argsort(-bm25.get_scores(query))\n",
    "print(query)"
   ]
  },
  {
   "cell_type": "code",
   "execution_count": 24,
   "metadata": {},
   "outputs": [
    {
     "data": {
      "text/plain": [
       "'anatolia'"
      ]
     },
     "execution_count": 24,
     "metadata": {},
     "output_type": "execute_result"
    }
   ],
   "source": [
    "stem.PorterStemmer().stem('anatolia')"
   ]
  },
  {
   "cell_type": "code",
   "execution_count": 25,
   "metadata": {},
   "outputs": [
    {
     "data": {
      "text/plain": [
       "[(124, text_right    it makes up the majority of modern day turkey ...\n",
       "  Name: 124, dtype: object),\n",
       " (12849, text_right    the geographic coordinates of the country lie ...\n",
       "  Name: 12849, dtype: object),\n",
       " (39746, text_right    urban called for a military expedition to aid ...\n",
       "  Name: 39746, dtype: object),\n",
       " (73482, text_right    the decisive defeat of the byzantine army and ...\n",
       "  Name: 73482, dtype: object),\n",
       " (9490, text_right    reliable information about the early history o...\n",
       "  Name: 9490, dtype: object)]"
      ]
     },
     "execution_count": 25,
     "metadata": {},
     "output_type": "execute_result"
    }
   ],
   "source": [
    "list(documents_df.iloc[sorted_indices[:5]].iterrows())"
   ]
  }
 ],
 "metadata": {
  "kernelspec": {
   "display_name": "ml",
   "language": "python",
   "name": "ml"
  },
  "language_info": {
   "codemirror_mode": {
    "name": "ipython",
    "version": 3
   },
   "file_extension": ".py",
   "mimetype": "text/x-python",
   "name": "python",
   "nbconvert_exporter": "python",
   "pygments_lexer": "ipython3",
   "version": "3.7.3"
  }
 },
 "nbformat": 4,
 "nbformat_minor": 2
}
