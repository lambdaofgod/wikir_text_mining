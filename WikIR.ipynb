{
 "cells": [
  {
   "cell_type": "code",
   "execution_count": 1,
   "metadata": {},
   "outputs": [
    {
     "name": "stderr",
     "output_type": "stream",
     "text": [
      "/etc/miniconda/envs/ml/lib/python3.7/site-packages/sklearn/utils/deprecation.py:144: FutureWarning: The sklearn.feature_extraction.stop_words module is  deprecated in version 0.22 and will be removed in version 0.24. The corresponding classes / functions should instead be imported from sklearn.feature_extraction.text. Anything that cannot be imported from sklearn.feature_extraction.text is now part of the private API.\n",
      "  warnings.warn(message, FutureWarning)\n",
      "WARNING: Logging before flag parsing goes to stderr.\n",
      "W0111 12:16:45.123406 139681046181696 __init__.py:56] Some hub symbols are not available because TensorFlow version is less than 1.14\n"
     ]
    }
   ],
   "source": [
    "import pandas as pd\n",
    "import numpy as np\n",
    "import matplotlib.pyplot as plt\n",
    "%matplotlib inline\n",
    "\n",
    "import rank_bm25\n",
    "import nltk\n",
    "from nltk import stem\n",
    "import tqdm \n",
    "from mlutil.parallel import mapp\n",
    "from toolz import partial\n",
    "\n",
    "import rank_bm25\n",
    "import pytrec_eval\n",
    "\n",
    "plt.style.use('dark_background')"
   ]
  },
  {
   "cell_type": "code",
   "execution_count": 2,
   "metadata": {},
   "outputs": [
    {
     "name": "stdout",
     "output_type": "stream",
     "text": [
      "/home/kuba/Projects/wikir_text_mining\n"
     ]
    }
   ],
   "source": [
    "!pwd"
   ]
  },
  {
   "cell_type": "code",
   "execution_count": 3,
   "metadata": {},
   "outputs": [
    {
     "name": "stdout",
     "output_type": "stream",
     "text": [
      "BM25.metrics.json  BM25.qrels.csv  BM25.res  qrels  queries.csv\n"
     ]
    }
   ],
   "source": [
    "!ls wikIR1k/training/"
   ]
  },
  {
   "cell_type": "markdown",
   "metadata": {},
   "source": [
    "## Documents"
   ]
  },
  {
   "cell_type": "code",
   "execution_count": 4,
   "metadata": {},
   "outputs": [],
   "source": [
    "documents_df = pd.read_csv('wikIR1k/documents.csv', index_col='id_right')"
   ]
  },
  {
   "cell_type": "code",
   "execution_count": 5,
   "metadata": {},
   "outputs": [
    {
     "name": "stdout",
     "output_type": "stream",
     "text": [
      "<class 'pandas.core.frame.DataFrame'>\n",
      "Int64Index: 99987 entries, 0 to 99999\n",
      "Data columns (total 1 columns):\n",
      "text_right    99987 non-null object\n",
      "dtypes: object(1)\n",
      "memory usage: 1.5+ MB\n"
     ]
    }
   ],
   "source": [
    "documents_df.info()"
   ]
  },
  {
   "cell_type": "code",
   "execution_count": 6,
   "metadata": {},
   "outputs": [
    {
     "data": {
      "text/html": [
       "<div>\n",
       "<style scoped>\n",
       "    .dataframe tbody tr th:only-of-type {\n",
       "        vertical-align: middle;\n",
       "    }\n",
       "\n",
       "    .dataframe tbody tr th {\n",
       "        vertical-align: top;\n",
       "    }\n",
       "\n",
       "    .dataframe thead th {\n",
       "        text-align: right;\n",
       "    }\n",
       "</style>\n",
       "<table border=\"1\" class=\"dataframe\">\n",
       "  <thead>\n",
       "    <tr style=\"text-align: right;\">\n",
       "      <th></th>\n",
       "      <th>text_right</th>\n",
       "    </tr>\n",
       "    <tr>\n",
       "      <th>id_right</th>\n",
       "      <th></th>\n",
       "    </tr>\n",
       "  </thead>\n",
       "  <tbody>\n",
       "    <tr>\n",
       "      <th>0</th>\n",
       "      <td>these institutions are often described as stat...</td>\n",
       "    </tr>\n",
       "    <tr>\n",
       "      <th>1</th>\n",
       "      <td>parents usually notice signs during the first ...</td>\n",
       "    </tr>\n",
       "    <tr>\n",
       "      <th>2</th>\n",
       "      <td>a planet like earth it is dimensionless and me...</td>\n",
       "    </tr>\n",
       "    <tr>\n",
       "      <th>3</th>\n",
       "      <td>it is similar to the ancient greek letter alph...</td>\n",
       "    </tr>\n",
       "    <tr>\n",
       "      <th>4</th>\n",
       "      <td>it is bordered by tennessee to the north georg...</td>\n",
       "    </tr>\n",
       "  </tbody>\n",
       "</table>\n",
       "</div>"
      ],
      "text/plain": [
       "                                                 text_right\n",
       "id_right                                                   \n",
       "0         these institutions are often described as stat...\n",
       "1         parents usually notice signs during the first ...\n",
       "2         a planet like earth it is dimensionless and me...\n",
       "3         it is similar to the ancient greek letter alph...\n",
       "4         it is bordered by tennessee to the north georg..."
      ]
     },
     "execution_count": 6,
     "metadata": {},
     "output_type": "execute_result"
    }
   ],
   "source": [
    "documents_df.head()"
   ]
  },
  {
   "cell_type": "code",
   "execution_count": 7,
   "metadata": {},
   "outputs": [],
   "source": [
    "document_lengths = documents_df['text_right'].apply(lambda s: s.count(' '))"
   ]
  },
  {
   "cell_type": "code",
   "execution_count": 8,
   "metadata": {},
   "outputs": [
    {
     "data": {
      "image/png": "[encoded data removed]",
      "text/plain": [
       "<Figure size 432x288 with 1 Axes>"
      ]
     },
     "metadata": {
      "needs_background": "dark"
     },
     "output_type": "display_data"
    }
   ],
   "source": [
    "document_lengths.plot.hist();"
   ]
  },
  {
   "cell_type": "markdown",
   "metadata": {},
   "source": [
    "## Queries"
   ]
  },
  {
   "cell_type": "code",
   "execution_count": 9,
   "metadata": {},
   "outputs": [],
   "source": [
    "queries_df = pd.read_csv('wikIR1k/training/queries.csv', index_col='id_left')"
   ]
  },
  {
   "cell_type": "code",
   "execution_count": 10,
   "metadata": {},
   "outputs": [
    {
     "name": "stdout",
     "output_type": "stream",
     "text": [
      "<class 'pandas.core.frame.DataFrame'>\n",
      "Int64Index: 1645 entries, 17783 to 12052\n",
      "Data columns (total 1 columns):\n",
      "text_left    1645 non-null object\n",
      "dtypes: object(1)\n",
      "memory usage: 25.7+ KB\n"
     ]
    }
   ],
   "source": [
    "queries_df.info()"
   ]
  },
  {
   "cell_type": "code",
   "execution_count": 11,
   "metadata": {},
   "outputs": [
    {
     "data": {
      "image/png": "[encoded data removed]",
      "text/plain": [
       "<Figure size 432x288 with 1 Axes>"
      ]
     },
     "metadata": {
      "needs_background": "dark"
     },
     "output_type": "display_data"
    }
   ],
   "source": [
    "queries_df['text_left'].apply(lambda s: len(s.split())).plot.hist();"
   ]
  },
  {
   "cell_type": "markdown",
   "metadata": {},
   "source": [
    "# BM25 results"
   ]
  },
  {
   "cell_type": "code",
   "execution_count": 12,
   "metadata": {},
   "outputs": [
    {
     "name": "stdout",
     "output_type": "stream",
     "text": [
      ",id_left,id_right,label\n",
      "0,17783,77063,0\n",
      "1,17783,17774,0\n",
      "2,17783,17783,2\n",
      "3,17783,20576,0\n",
      "4,17783,77066,0\n",
      "5,17783,35888,1\n",
      "6,17783,77064,0\n",
      "7,17783,97038,1\n",
      "8,17783,29547,0\n"
     ]
    }
   ],
   "source": [
    "!head wikIR1k/training/BM25.qrels.csv"
   ]
  },
  {
   "cell_type": "code",
   "execution_count": 13,
   "metadata": {},
   "outputs": [
    {
     "data": {
      "text/plain": [
       "(8588, 4)"
      ]
     },
     "execution_count": 13,
     "metadata": {},
     "output_type": "execute_result"
    }
   ],
   "source": [
    "relevances = pd.read_csv('wikIR1k/training/BM25.qrels.csv')\n",
    "relevant_pairs=relevances[relevances['label'] != 0]\n",
    "relevant_pairs.shape"
   ]
  },
  {
   "cell_type": "code",
   "execution_count": 14,
   "metadata": {},
   "outputs": [
    {
     "data": {
      "text/html": [
       "<div>\n",
       "<style scoped>\n",
       "    .dataframe tbody tr th:only-of-type {\n",
       "        vertical-align: middle;\n",
       "    }\n",
       "\n",
       "    .dataframe tbody tr th {\n",
       "        vertical-align: top;\n",
       "    }\n",
       "\n",
       "    .dataframe thead th {\n",
       "        text-align: right;\n",
       "    }\n",
       "</style>\n",
       "<table border=\"1\" class=\"dataframe\">\n",
       "  <thead>\n",
       "    <tr style=\"text-align: right;\">\n",
       "      <th></th>\n",
       "      <th>Unnamed: 0</th>\n",
       "      <th>id_left</th>\n",
       "      <th>id_right</th>\n",
       "      <th>label</th>\n",
       "      <th>text_left</th>\n",
       "      <th>text_right</th>\n",
       "    </tr>\n",
       "  </thead>\n",
       "  <tbody>\n",
       "    <tr>\n",
       "      <th>0</th>\n",
       "      <td>2</td>\n",
       "      <td>17783</td>\n",
       "      <td>17783</td>\n",
       "      <td>2</td>\n",
       "      <td>apulia</td>\n",
       "      <td>the region comprises and its population is abo...</td>\n",
       "    </tr>\n",
       "    <tr>\n",
       "      <th>1</th>\n",
       "      <td>5</td>\n",
       "      <td>17783</td>\n",
       "      <td>35888</td>\n",
       "      <td>1</td>\n",
       "      <td>apulia</td>\n",
       "      <td>it also has two coastlines a 30 km stretch on ...</td>\n",
       "    </tr>\n",
       "    <tr>\n",
       "      <th>2</th>\n",
       "      <td>21902</td>\n",
       "      <td>17774</td>\n",
       "      <td>35888</td>\n",
       "      <td>1</td>\n",
       "      <td>calabria</td>\n",
       "      <td>it also has two coastlines a 30 km stretch on ...</td>\n",
       "    </tr>\n",
       "    <tr>\n",
       "      <th>3</th>\n",
       "      <td>37971</td>\n",
       "      <td>95944</td>\n",
       "      <td>35888</td>\n",
       "      <td>1</td>\n",
       "      <td>regions of italy</td>\n",
       "      <td>it also has two coastlines a 30 km stretch on ...</td>\n",
       "    </tr>\n",
       "    <tr>\n",
       "      <th>4</th>\n",
       "      <td>74818</td>\n",
       "      <td>17843</td>\n",
       "      <td>35888</td>\n",
       "      <td>1</td>\n",
       "      <td>campania</td>\n",
       "      <td>it also has two coastlines a 30 km stretch on ...</td>\n",
       "    </tr>\n",
       "    <tr>\n",
       "      <th>...</th>\n",
       "      <td>...</td>\n",
       "      <td>...</td>\n",
       "      <td>...</td>\n",
       "      <td>...</td>\n",
       "      <td>...</td>\n",
       "      <td>...</td>\n",
       "    </tr>\n",
       "    <tr>\n",
       "      <th>8583</th>\n",
       "      <td>164400</td>\n",
       "      <td>12052</td>\n",
       "      <td>29167</td>\n",
       "      <td>1</td>\n",
       "      <td>sonic youth</td>\n",
       "      <td>after graduating from los angeles s otis colle...</td>\n",
       "    </tr>\n",
       "    <tr>\n",
       "      <th>8584</th>\n",
       "      <td>164401</td>\n",
       "      <td>12052</td>\n",
       "      <td>88503</td>\n",
       "      <td>1</td>\n",
       "      <td>sonic youth</td>\n",
       "      <td>the band recorded the album between july and a...</td>\n",
       "    </tr>\n",
       "    <tr>\n",
       "      <th>8585</th>\n",
       "      <td>164403</td>\n",
       "      <td>12052</td>\n",
       "      <td>12052</td>\n",
       "      <td>2</td>\n",
       "      <td>sonic youth</td>\n",
       "      <td>founding members thurston moore guitar vocals ...</td>\n",
       "    </tr>\n",
       "    <tr>\n",
       "      <th>8586</th>\n",
       "      <td>164404</td>\n",
       "      <td>12052</td>\n",
       "      <td>29166</td>\n",
       "      <td>1</td>\n",
       "      <td>sonic youth</td>\n",
       "      <td>he has also participated in many solo and grou...</td>\n",
       "    </tr>\n",
       "    <tr>\n",
       "      <th>8587</th>\n",
       "      <td>164405</td>\n",
       "      <td>12052</td>\n",
       "      <td>29168</td>\n",
       "      <td>1</td>\n",
       "      <td>sonic youth</td>\n",
       "      <td>in 2004 rolling stone ranked ranaldo at number...</td>\n",
       "    </tr>\n",
       "  </tbody>\n",
       "</table>\n",
       "<p>8588 rows × 6 columns</p>\n",
       "</div>"
      ],
      "text/plain": [
       "      Unnamed: 0  id_left  id_right  label         text_left  \\\n",
       "0              2    17783     17783      2            apulia   \n",
       "1              5    17783     35888      1            apulia   \n",
       "2          21902    17774     35888      1          calabria   \n",
       "3          37971    95944     35888      1  regions of italy   \n",
       "4          74818    17843     35888      1          campania   \n",
       "...          ...      ...       ...    ...               ...   \n",
       "8583      164400    12052     29167      1       sonic youth   \n",
       "8584      164401    12052     88503      1       sonic youth   \n",
       "8585      164403    12052     12052      2       sonic youth   \n",
       "8586      164404    12052     29166      1       sonic youth   \n",
       "8587      164405    12052     29168      1       sonic youth   \n",
       "\n",
       "                                             text_right  \n",
       "0     the region comprises and its population is abo...  \n",
       "1     it also has two coastlines a 30 km stretch on ...  \n",
       "2     it also has two coastlines a 30 km stretch on ...  \n",
       "3     it also has two coastlines a 30 km stretch on ...  \n",
       "4     it also has two coastlines a 30 km stretch on ...  \n",
       "...                                                 ...  \n",
       "8583  after graduating from los angeles s otis colle...  \n",
       "8584  the band recorded the album between july and a...  \n",
       "8585  founding members thurston moore guitar vocals ...  \n",
       "8586  he has also participated in many solo and grou...  \n",
       "8587  in 2004 rolling stone ranked ranaldo at number...  \n",
       "\n",
       "[8588 rows x 6 columns]"
      ]
     },
     "execution_count": 14,
     "metadata": {},
     "output_type": "execute_result"
    }
   ],
   "source": [
    "relevant_pairs.merge(queries_df, on='id_left').merge(documents_df, on='id_right')"
   ]
  },
  {
   "cell_type": "code",
   "execution_count": 15,
   "metadata": {},
   "outputs": [],
   "source": [
    "stop_words = set(nltk.corpus.stopwords.words('english'))\n",
    "\n",
    "\n",
    "def get_document_stems(doc_with_key, stemmer):\n",
    "    key, value = doc_with_key\n",
    "    value = value['text_right']\n",
    "    stems = [stemmer.stem(elem) for elem in value.split(\" \") if elem not in stop_words]\n",
    "    return key, stems #value.split() \n",
    "\n",
    "\n",
    "def make_bm25(documents, stemmer=stem.PorterStemmer()):\n",
    "    docs_dict = dict(mapp(partial(get_document_stems, stemmer=stemmer), documents.iterrows()))\n",
    "    return rank_bm25.BM25Okapi(docs_dict.values())"
   ]
  },
  {
   "cell_type": "code",
   "execution_count": 29,
   "metadata": {},
   "outputs": [],
   "source": [
    "def make_relevance_dict(queries_df, relevant_indices):\n",
    "    return {\n",
    "        str(l): {\n",
    "            str(k): v\n",
    "            for (k, v) in relevant_indices[i].to_dict().items()\n",
    "        }\n",
    "        for i, l in enumerate(queries_df.index)\n",
    "    }\n",
    "\n",
    "\n",
    "def get_predicted_relevant_indices(queries_df, bm25, k=100):\n",
    "\n",
    "    bm25_relevant_indices = []\n",
    "    for __, q in tqdm.tqdm(queries_df.iterrows(), total=len(queries_df)):\n",
    "        query = [nltk.stem.PorterStemmer().stem(t) for t in q['text_left'].split()]\n",
    "        scores = bm25.get_scores(query)\n",
    "        sorted_indices = np.argsort(scores)[::-1][:k]\n",
    "        sorted_scores = scores[sorted_indices]\n",
    "        document_indices = documents_df.index[sorted_indices]\n",
    "        bm25_relevant_indices.append(pd.Series(sorted_scores, index=document_indices))\n",
    "    \n",
    "    return bm25_relevant_indices\n",
    "\n",
    "\n",
    "def setup_evaluator_from_relevance_file(qrel_path, measures={\"map\",\"ndcg_cut\",\"recall\",\"P\"}):\n",
    "    with open(qrel_path, 'r') as f_qrel:\n",
    "        qrel = pytrec_eval.parse_qrel(f_qrel)\n",
    "\n",
    "    return pytrec_eval.RelevanceEvaluator(qrel,measures)\n",
    "\n",
    "\n",
    "def get_results_df(predicted_relevance, evaluator):\n",
    "    results = evaluator.evaluate(predicted_relevance)\n",
    "    return pd.DataFrame.from_records(results).T"
   ]
  },
  {
   "cell_type": "code",
   "execution_count": 17,
   "metadata": {},
   "outputs": [
    {
     "name": "stdout",
     "output_type": "stream",
     "text": [
      "CPU times: user 53.3 s, sys: 4.22 s, total: 57.5 s\n",
      "Wall time: 1min 2s\n"
     ]
    }
   ],
   "source": [
    "%%time\n",
    "bm25 = make_bm25(documents_df)"
   ]
  },
  {
   "cell_type": "code",
   "execution_count": 18,
   "metadata": {},
   "outputs": [
    {
     "data": {
      "text/html": [
       "<div>\n",
       "<style scoped>\n",
       "    .dataframe tbody tr th:only-of-type {\n",
       "        vertical-align: middle;\n",
       "    }\n",
       "\n",
       "    .dataframe tbody tr th {\n",
       "        vertical-align: top;\n",
       "    }\n",
       "\n",
       "    .dataframe thead th {\n",
       "        text-align: right;\n",
       "    }\n",
       "</style>\n",
       "<table border=\"1\" class=\"dataframe\">\n",
       "  <thead>\n",
       "    <tr style=\"text-align: right;\">\n",
       "      <th></th>\n",
       "      <th>text_right</th>\n",
       "    </tr>\n",
       "    <tr>\n",
       "      <th>id_right</th>\n",
       "      <th></th>\n",
       "    </tr>\n",
       "  </thead>\n",
       "  <tbody>\n",
       "    <tr>\n",
       "      <th>0</th>\n",
       "      <td>these institutions are often described as stat...</td>\n",
       "    </tr>\n",
       "    <tr>\n",
       "      <th>1</th>\n",
       "      <td>parents usually notice signs during the first ...</td>\n",
       "    </tr>\n",
       "    <tr>\n",
       "      <th>2</th>\n",
       "      <td>a planet like earth it is dimensionless and me...</td>\n",
       "    </tr>\n",
       "    <tr>\n",
       "      <th>3</th>\n",
       "      <td>it is similar to the ancient greek letter alph...</td>\n",
       "    </tr>\n",
       "    <tr>\n",
       "      <th>4</th>\n",
       "      <td>it is bordered by tennessee to the north georg...</td>\n",
       "    </tr>\n",
       "    <tr>\n",
       "      <th>...</th>\n",
       "      <td>...</td>\n",
       "    </tr>\n",
       "    <tr>\n",
       "      <th>99995</th>\n",
       "      <td>he was the first born son of constantine i and...</td>\n",
       "    </tr>\n",
       "    <tr>\n",
       "      <th>99996</th>\n",
       "      <td>they were the 2003 2006 and 2008 wnba champion...</td>\n",
       "    </tr>\n",
       "    <tr>\n",
       "      <th>99997</th>\n",
       "      <td>36 and dewitt clinton high school in the bronx...</td>\n",
       "    </tr>\n",
       "    <tr>\n",
       "      <th>99998</th>\n",
       "      <td>he was a republican politician who served as t...</td>\n",
       "    </tr>\n",
       "    <tr>\n",
       "      <th>99999</th>\n",
       "      <td>exterior arcades are designed to provide a she...</td>\n",
       "    </tr>\n",
       "  </tbody>\n",
       "</table>\n",
       "<p>99987 rows × 1 columns</p>\n",
       "</div>"
      ],
      "text/plain": [
       "                                                 text_right\n",
       "id_right                                                   \n",
       "0         these institutions are often described as stat...\n",
       "1         parents usually notice signs during the first ...\n",
       "2         a planet like earth it is dimensionless and me...\n",
       "3         it is similar to the ancient greek letter alph...\n",
       "4         it is bordered by tennessee to the north georg...\n",
       "...                                                     ...\n",
       "99995     he was the first born son of constantine i and...\n",
       "99996     they were the 2003 2006 and 2008 wnba champion...\n",
       "99997     36 and dewitt clinton high school in the bronx...\n",
       "99998     he was a republican politician who served as t...\n",
       "99999     exterior arcades are designed to provide a she...\n",
       "\n",
       "[99987 rows x 1 columns]"
      ]
     },
     "execution_count": 18,
     "metadata": {},
     "output_type": "execute_result"
    }
   ],
   "source": [
    "documents_df"
   ]
  },
  {
   "cell_type": "code",
   "execution_count": 19,
   "metadata": {},
   "outputs": [
    {
     "data": {
      "text/plain": [
       "id_left\n",
       "4        [13565, 39189, 4, 38981, 39019, 38863, 38972, ...\n",
       "6                                                  [20527]\n",
       "9                      [86246, 24141, 24157, 85150, 24248]\n",
       "22                                  [22, 572, 88364, 7955]\n",
       "24                  [24, 29460, 7767, 29525, 29524, 29531]\n",
       "                               ...                        \n",
       "98402                                [98402, 64632, 62430]\n",
       "98706                                              [50628]\n",
       "98896                                       [90224, 87052]\n",
       "99191                                [99191, 99192, 83289]\n",
       "99815                         [99815, 77977, 80197, 85908]\n",
       "Name: id_right, Length: 1240, dtype: object"
      ]
     },
     "execution_count": 19,
     "metadata": {},
     "output_type": "execute_result"
    }
   ],
   "source": [
    "qrels_all = pd.read_csv('wikIR1k/training/BM25.qrels.csv', index_col=0)\n",
    "qrels = qrels_all[qrels_all['label'] != 0]\n",
    "\n",
    "qrels_trec = qrels.groupby('id_left')['id_right'].apply(list)"
   ]
  },
  {
   "cell_type": "code",
   "execution_count": 20,
   "metadata": {},
   "outputs": [],
   "source": [
    "n_tmp = 1000"
   ]
  },
  {
   "cell_type": "code",
   "execution_count": 21,
   "metadata": {},
   "outputs": [],
   "source": [
    "qrels_trec_tmp = qrels_trec[:n_tmp].to_dict()"
   ]
  },
  {
   "cell_type": "code",
   "execution_count": 22,
   "metadata": {},
   "outputs": [],
   "source": [
    "qrels_trec_tmp = {\n",
    "    str(k): {str(v): 1 for v in vals}\n",
    "    for (k, vals) in qrels_trec_tmp.items()\n",
    "}"
   ]
  },
  {
   "cell_type": "code",
   "execution_count": 26,
   "metadata": {},
   "outputs": [
    {
     "name": "stderr",
     "output_type": "stream",
     "text": [
      "100%|██████████| 1645/1645 [01:39<00:00, 16.56it/s]\n"
     ]
    },
    {
     "name": "stdout",
     "output_type": "stream",
     "text": [
      "CPU times: user 1min 39s, sys: 115 ms, total: 1min 39s\n",
      "Wall time: 1min 39s\n"
     ]
    }
   ],
   "source": [
    "%%time\n",
    "\n",
    "bm25_relevant_indices = get_predicted_relevant_indices(queries_df, bm25)\n",
    "bm25_relevance_dict = make_relevance_dict(queries_df, bm25_relevant_indices)"
   ]
  },
  {
   "cell_type": "code",
   "execution_count": 27,
   "metadata": {},
   "outputs": [],
   "source": [
    "qrel_path = 'wikIR1k/training/qrels'\n",
    "evaluator = setup_evaluator_from_relevance_file(qrel_path) "
   ]
  },
  {
   "cell_type": "code",
   "execution_count": 30,
   "metadata": {},
   "outputs": [],
   "source": [
    "results_df = get_results_df(bm25_relevance_dict, evaluator)"
   ]
  },
  {
   "cell_type": "code",
   "execution_count": 31,
   "metadata": {},
   "outputs": [
    {
     "data": {
      "text/plain": [
       "map              0.201171\n",
       "P_5              0.329848\n",
       "P_10             0.251672\n",
       "P_15             0.209402\n",
       "P_20             0.182614\n",
       "P_30             0.146727\n",
       "P_100            0.071866\n",
       "P_200            0.035933\n",
       "P_500            0.014373\n",
       "P_1000           0.007187\n",
       "recall_5         0.153343\n",
       "recall_10        0.219016\n",
       "recall_15        0.263900\n",
       "recall_20        0.297221\n",
       "recall_30        0.342009\n",
       "recall_100       0.460801\n",
       "recall_200       0.460801\n",
       "recall_500       0.460801\n",
       "recall_1000      0.460801\n",
       "ndcg_cut_5       0.411034\n",
       "ndcg_cut_10      0.379012\n",
       "ndcg_cut_15      0.380193\n",
       "ndcg_cut_20      0.385647\n",
       "ndcg_cut_30      0.396099\n",
       "ndcg_cut_100     0.431964\n",
       "ndcg_cut_200     0.428129\n",
       "ndcg_cut_500     0.426540\n",
       "ndcg_cut_1000    0.426304\n",
       "dtype: float64"
      ]
     },
     "execution_count": 31,
     "metadata": {},
     "output_type": "execute_result"
    }
   ],
   "source": [
    "results_df.mean()"
   ]
  }
 ],
 "metadata": {
  "kernelspec": {
   "display_name": "ml",
   "language": "python",
   "name": "ml"
  },
  "language_info": {
   "codemirror_mode": {
    "name": "ipython",
    "version": 3
   },
   "file_extension": ".py",
   "mimetype": "text/x-python",
   "name": "python",
   "nbconvert_exporter": "python",
   "pygments_lexer": "ipython3",
   "version": "3.7.3"
  }
 },
 "nbformat": 4,
 "nbformat_minor": 2
}
